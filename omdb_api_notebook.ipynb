{
 "cells": [
  {
   "cell_type": "code",
   "execution_count": 1,
   "metadata": {
    "collapsed": true
   },
   "outputs": [
    {
     "name": "stdout",
     "output_type": "stream",
     "text": [
      "{'actors': 'K.J. Apa, Lili Reinhart, Camila Mendes, Cole Sprouse',\n 'awards': '9 wins & 3 nominations.',\n 'country': 'USA',\n 'director': 'N/A',\n 'duration': Duration('PT45M'),\n 'genre': 'Crime, Drama, Mystery',\n 'imdbId': 'tt5420376',\n 'imdbRating': 7.8,\n 'imdbVotes': 43398,\n 'language': 'English',\n 'metaScore': nan,\n 'plot': \"A subversive take on Archie and his friends, exploring small town life, the darkness and weirdness bubbling beneath Riverdale's wholesome facade.\",\n 'rating': 'TV-14',\n 'ratings': [{'Source': 'Internet Movie Database', 'Value': '7.8/10'}],\n 'releaseDate': Timestamp('2017-01-26'),\n 'responseStatus': True,\n 'seasons': [{'episodes': [{'id': 'S01E01', 'imdbId': 'tt5728914', 'imdbRating': 7.8, 'indexInSeason': 1, 'indexInSeries': 1, 'releaseDate': Timestamp('2017-01-26'), 'title': \"Chapter One: The River's Edge\"},\n                           {'id': 'S01E02', 'imdbId': 'tt5728918', 'imdbRating': 8.0, 'indexInSeason': 2, 'indexInSeries': 2, 'releaseDate': Timestamp('2017-02-02'), 'title': 'Chapter Two: A Touch of Evil'},\n                           {'id': 'S01E03', 'imdbId': 'tt5728922', 'imdbRating': 8.2, 'indexInSeason': 3, 'indexInSeries': 3, 'releaseDate': Timestamp('2017-02-09'), 'title': 'Chapter Three: Body Double'},\n                           {'id': 'S01E04', 'imdbId': 'tt5728924', 'imdbRating': 8.3, 'indexInSeason': 4, 'indexInSeries': 4, 'releaseDate': Timestamp('2017-02-16'), 'title': 'Chapter Four: The Last Picture Show'},\n                           {'id': 'S01E05', 'imdbId': 'tt5728926', 'imdbRating': 8.1, 'indexInSeason': 5, 'indexInSeries': 5, 'releaseDate': Timestamp('2017-02-23'), 'title': 'Chapter Five: Heart of Darkness'},\n                           {'id': 'S01E06', 'imdbId': 'tt5728928', 'imdbRating': 8.1, 'indexInSeason': 6, 'indexInSeries': 6, 'releaseDate': Timestamp('2017-03-02'), 'title': 'Chapter Six: Faster, Pussycats! Kill! Kill!'},\n                           {'id': 'S01E07', 'imdbId': 'tt5728930', 'imdbRating': 8.1, 'indexInSeason': 7, 'indexInSeries': 7, 'releaseDate': Timestamp('2017-03-09'), 'title': 'Chapter Seven: In a Lonely Place'},\n                           {'id': 'S01E08', 'imdbId': 'tt5728932', 'imdbRating': 8.0, 'indexInSeason': 8, 'indexInSeries': 8, 'releaseDate': Timestamp('2017-03-30'), 'title': 'Chapter Eight: The Outsiders'},\n                           {'id': 'S01E09', 'imdbId': 'tt5728934', 'imdbRating': 7.8, 'indexInSeason': 9, 'indexInSeries': 9, 'releaseDate': Timestamp('2017-04-06'), 'title': 'Chapter Nine: La Grande Illusion'},\n                           {'id': 'S01E10', 'imdbId': 'tt5728936', 'imdbRating': 8.4, 'indexInSeason': 10, 'indexInSeries': 10, 'releaseDate': Timestamp('2017-04-13'), 'title': 'Chapter Ten: The Lost Weekend'},\n                           {'id': 'S01E11', 'imdbId': 'tt5728940', 'imdbRating': 8.2, 'indexInSeason': 11, 'indexInSeries': 11, 'releaseDate': Timestamp('2017-04-27'), 'title': 'Chapter Eleven: To Riverdale and Back Again'},\n                           {'id': 'S01E12', 'imdbId': 'tt5728942', 'imdbRating': 9.0, 'indexInSeason': 12, 'indexInSeries': 12, 'releaseDate': Timestamp('2017-05-04'), 'title': 'Chapter Twelve: Anatomy of a Murder'},\n                           {'id': 'S01E13', 'imdbId': 'tt5728946', 'imdbRating': 8.8, 'indexInSeason': 13, 'indexInSeries': 13, 'releaseDate': Timestamp('2017-05-11'), 'title': 'Chapter Thirteen: The Sweet Hereafter'}],\n              'length': 13,\n              'seasonIndex': 1,\n              'seriesTitle': 'Riverdale'},\n             {'episodes': [{'id': 'S02E01', 'imdbId': 'tt6618896', 'imdbRating': 8.4, 'indexInSeason': 1, 'indexInSeries': 14, 'releaseDate': Timestamp('2017-10-11'), 'title': 'Chapter Fourteen: A Kiss Before Dying'},\n                           {'id': 'S02E02', 'imdbId': 'tt6746362', 'imdbRating': 8.3, 'indexInSeason': 2, 'indexInSeries': 15, 'releaseDate': Timestamp('2017-10-18'), 'title': 'Chapter Fifteen: Nighthawks'},\n                           {'id': 'S02E03', 'imdbId': 'tt6746366', 'imdbRating': 8.2, 'indexInSeason': 3, 'indexInSeries': 16, 'releaseDate': Timestamp('2017-10-25'), 'title': 'Chapter Sixteen: The Watcher in the Woods'},\n                           {'id': 'S02E04', 'imdbId': 'tt6746372', 'imdbRating': 8.3, 'indexInSeason': 4, 'indexInSeries': 17, 'releaseDate': Timestamp('2017-11-01'), 'title': 'Chapter Seventeen: The Town That Dreaded Sundown'},\n                           {'id': 'S02E05', 'imdbId': 'tt6746380', 'imdbRating': 8.9, 'indexInSeason': 5, 'indexInSeries': 18, 'releaseDate': Timestamp('2017-11-08'), 'title': 'Chapter Eighteen: When a Stranger Calls'},\n                           {'id': 'S02E06', 'imdbId': 'tt6746392', 'imdbRating': nan, 'indexInSeason': 6, 'indexInSeries': 19, 'releaseDate': Timestamp('2017-11-15'), 'title': 'Chapter Nineteen: Death Proof'},\n                           {'id': 'S02E07', 'imdbId': 'tt6746402', 'imdbRating': 8.5, 'indexInSeason': 7, 'indexInSeries': 20, 'releaseDate': Timestamp('2017-11-29'), 'title': 'Chapter Twenty: Tales from the Darkside'}],\n              'length': 7,\n              'seasonIndex': 2,\n              'seriesTitle': 'Riverdale'}],\n 'title': 'Riverdale',\n 'totalSeasons': 2,\n 'type': 'series',\n 'writer': 'Roberto Aguirre-Sacasa',\n 'year': '2017–'}\n"
     ]
    }
   ],
   "source": [
    "%matplotlib inline\n",
    "from package import OmdbApi, SeriesPlot\n",
    "from package.github import omdb_api_key, timetools, tabletools\n",
    "import requests\n",
    "from functools import partial \n",
    "from pprint import pprint\n",
    "pprint = partial(pprint, width = 250)\n",
    "import math\n",
    "\n",
    "api = OmdbApi(omdb_api_key)\n",
    "test_show = 'tt4254242'\n",
    "test_string = \"riverdale\"\n",
    "test_movie = \"tt2488496\"\n",
    "response = api.find(test_string)\n",
    "#response = api.get(test_movie)\n",
    "pprint(response)"
   ]
  },
  {
   "cell_type": "code",
   "execution_count": 2,
   "metadata": {
    "collapsed": false
   },
   "outputs": [
    {
     "name": "stderr",
     "output_type": "stream",
     "text": [
      "C:\\Users\\Deitrickc\\Anaconda3\\lib\\site-packages\\pandas\\util\\_decorators.py:118: FutureWarning: The `sheetname` keyword is deprecated, use `sheet_name` instead\n  return func(*args, **kwargs)\n\r                                                                               \r\rN/A% (0 of 196) |                        | Elapsed Time: 0:00:00 ETA:  --:--:--"
     ]
    },
    {
     "name": "stderr",
     "output_type": "stream",
     "text": [
      "\r                                                                               \r\r  0% (1 of 196) |                         | Elapsed Time: 0:00:00 ETA:  0:01:54"
     ]
    },
    {
     "name": "stderr",
     "output_type": "stream",
     "text": [
      "\r                                                                               \r\r  1% (2 of 196) |                         | Elapsed Time: 0:00:00 ETA:  0:01:27"
     ]
    },
    {
     "name": "stderr",
     "output_type": "stream",
     "text": [
      "\r                                                                               \r\r  1% (3 of 196) |                         | Elapsed Time: 0:00:01 ETA:  0:01:10"
     ]
    },
    {
     "name": "stderr",
     "output_type": "stream",
     "text": [
      "\r                                                                               \r\r  2% (4 of 196) |                         | Elapsed Time: 0:00:01 ETA:  0:01:17"
     ]
    },
    {
     "name": "stderr",
     "output_type": "stream",
     "text": [
      "\r                                                                               \r\r  2% (5 of 196) |                         | Elapsed Time: 0:00:02 ETA:  0:01:17"
     ]
    },
    {
     "name": "stderr",
     "output_type": "stream",
     "text": [
      "\r                                                                               \r\r  3% (6 of 196) |                         | Elapsed Time: 0:00:02 ETA:  0:01:09"
     ]
    },
    {
     "name": "stderr",
     "output_type": "stream",
     "text": [
      "\r                                                                               \r\r  3% (7 of 196) |                         | Elapsed Time: 0:00:02 ETA:  0:01:09"
     ]
    },
    {
     "name": "stderr",
     "output_type": "stream",
     "text": [
      "\r                                                                               \r\r  4% (8 of 196) |#                        | Elapsed Time: 0:00:02 ETA:  0:01:04"
     ]
    },
    {
     "name": "stderr",
     "output_type": "stream",
     "text": [
      "\r                                                                               \r\r  4% (9 of 196) |#                        | Elapsed Time: 0:00:02 ETA:  0:01:01"
     ]
    },
    {
     "name": "stderr",
     "output_type": "stream",
     "text": [
      "\r                                                                               \r\r  5% (10 of 196) |#                       | Elapsed Time: 0:00:03 ETA:  0:00:55"
     ]
    },
    {
     "name": "stderr",
     "output_type": "stream",
     "text": [
      "\r                                                                               \r\r  5% (11 of 196) |#                       | Elapsed Time: 0:00:03 ETA:  0:00:55"
     ]
    },
    {
     "name": "stderr",
     "output_type": "stream",
     "text": [
      "\r                                                                               \r\r  6% (12 of 196) |#                       | Elapsed Time: 0:00:03 ETA:  0:00:55"
     ]
    },
    {
     "name": "stderr",
     "output_type": "stream",
     "text": [
      "\r                                                                               \r\r  6% (13 of 196) |#                       | Elapsed Time: 0:00:04 ETA:  0:00:49"
     ]
    },
    {
     "name": "stderr",
     "output_type": "stream",
     "text": [
      "\r                                                                               \r\r  7% (14 of 196) |#                       | Elapsed Time: 0:00:04 ETA:  0:00:48"
     ]
    },
    {
     "name": "stderr",
     "output_type": "stream",
     "text": [
      "\r                                                                               \r\r  7% (15 of 196) |#                       | Elapsed Time: 0:00:04 ETA:  0:00:53"
     ]
    },
    {
     "name": "stderr",
     "output_type": "stream",
     "text": [
      "\r                                                                               \r\r  8% (16 of 196) |#                       | Elapsed Time: 0:00:05 ETA:  0:00:55"
     ]
    },
    {
     "name": "stderr",
     "output_type": "stream",
     "text": [
      "\r                                                                               \r\r  8% (17 of 196) |##                      | Elapsed Time: 0:00:05 ETA:  0:00:58"
     ]
    },
    {
     "name": "stderr",
     "output_type": "stream",
     "text": [
      "\r                                                                               \r\r  9% (18 of 196) |##                      | Elapsed Time: 0:00:06 ETA:  0:01:02"
     ]
    },
    {
     "name": "stderr",
     "output_type": "stream",
     "text": [
      "\r                                                                               \r\r  9% (19 of 196) |##                      | Elapsed Time: 0:00:06 ETA:  0:00:59"
     ]
    },
    {
     "name": "stderr",
     "output_type": "stream",
     "text": [
      "\r                                                                               \r\r 10% (20 of 196) |##                      | Elapsed Time: 0:00:06 ETA:  0:00:59"
     ]
    },
    {
     "name": "stderr",
     "output_type": "stream",
     "text": [
      "\r                                                                               \r\r 10% (21 of 196) |##                      | Elapsed Time: 0:00:06 ETA:  0:00:58"
     ]
    },
    {
     "name": "stderr",
     "output_type": "stream",
     "text": [
      "\r                                                                               \r\r 11% (22 of 196) |##                      | Elapsed Time: 0:00:06 ETA:  0:00:56"
     ]
    },
    {
     "name": "stderr",
     "output_type": "stream",
     "text": [
      "\r                                                                               \r\r 11% (23 of 196) |##                      | Elapsed Time: 0:00:07 ETA:  0:00:54"
     ]
    },
    {
     "name": "stderr",
     "output_type": "stream",
     "text": [
      "\r                                                                               \r\r 12% (24 of 196) |##                      | Elapsed Time: 0:00:07 ETA:  0:00:51"
     ]
    },
    {
     "name": "stderr",
     "output_type": "stream",
     "text": [
      "\r                                                                               \r\r 12% (25 of 196) |###                     | Elapsed Time: 0:00:07 ETA:  0:00:47"
     ]
    },
    {
     "name": "stderr",
     "output_type": "stream",
     "text": [
      "\r                                                                               \r\r 13% (26 of 196) |###                     | Elapsed Time: 0:00:08 ETA:  0:00:45"
     ]
    },
    {
     "name": "stderr",
     "output_type": "stream",
     "text": [
      "\r                                                                               \r\r 13% (27 of 196) |###                     | Elapsed Time: 0:00:08 ETA:  0:00:43"
     ]
    },
    {
     "name": "stderr",
     "output_type": "stream",
     "text": [
      "\r                                                                               \r\r 14% (28 of 196) |###                     | Elapsed Time: 0:00:08 ETA:  0:00:44"
     ]
    },
    {
     "name": "stderr",
     "output_type": "stream",
     "text": [
      "\r                                                                               \r\r 14% (29 of 196) |###                     | Elapsed Time: 0:00:09 ETA:  0:00:47"
     ]
    },
    {
     "name": "stderr",
     "output_type": "stream",
     "text": [
      "\r                                                                               \r\r 15% (30 of 196) |###                     | Elapsed Time: 0:00:09 ETA:  0:00:48"
     ]
    },
    {
     "name": "stderr",
     "output_type": "stream",
     "text": [
      "\r                                                                               \r\r 15% (31 of 196) |###                     | Elapsed Time: 0:00:09 ETA:  0:00:49"
     ]
    },
    {
     "name": "stderr",
     "output_type": "stream",
     "text": [
      "\r                                                                               \r\r 16% (32 of 196) |###                     | Elapsed Time: 0:00:10 ETA:  0:00:50"
     ]
    },
    {
     "name": "stderr",
     "output_type": "stream",
     "text": [
      "\r                                                                               \r\r 16% (33 of 196) |####                    | Elapsed Time: 0:00:10 ETA:  0:00:53"
     ]
    },
    {
     "name": "stderr",
     "output_type": "stream",
     "text": [
      "\r                                                                               \r\r 17% (34 of 196) |####                    | Elapsed Time: 0:00:10 ETA:  0:00:53"
     ]
    },
    {
     "name": "stderr",
     "output_type": "stream",
     "text": [
      "\r                                                                               \r\r 17% (35 of 196) |####                    | Elapsed Time: 0:00:11 ETA:  0:00:52"
     ]
    },
    {
     "name": "stderr",
     "output_type": "stream",
     "text": [
      "\r                                                                               \r\r 18% (36 of 196) |####                    | Elapsed Time: 0:00:11 ETA:  0:00:50"
     ]
    },
    {
     "name": "stderr",
     "output_type": "stream",
     "text": [
      "\r                                                                               \r\r 18% (37 of 196) |####                    | Elapsed Time: 0:00:11 ETA:  0:00:52"
     ]
    },
    {
     "name": "stderr",
     "output_type": "stream",
     "text": [
      "\r                                                                               \r\r 19% (38 of 196) |####                    | Elapsed Time: 0:00:11 ETA:  0:00:48"
     ]
    },
    {
     "name": "stderr",
     "output_type": "stream",
     "text": [
      "\r                                                                               \r\r 19% (39 of 196) |####                    | Elapsed Time: 0:00:12 ETA:  0:00:46"
     ]
    },
    {
     "name": "stderr",
     "output_type": "stream",
     "text": [
      "\r                                                                               \r\r 20% (40 of 196) |####                    | Elapsed Time: 0:00:12 ETA:  0:00:49"
     ]
    },
    {
     "name": "stderr",
     "output_type": "stream",
     "text": [
      "\r                                                                               \r\r 20% (41 of 196) |#####                   | Elapsed Time: 0:00:12 ETA:  0:00:47"
     ]
    },
    {
     "name": "stderr",
     "output_type": "stream",
     "text": [
      "\r                                                                               \r\r 21% (42 of 196) |#####                   | Elapsed Time: 0:00:13 ETA:  0:00:44"
     ]
    },
    {
     "name": "stderr",
     "output_type": "stream",
     "text": [
      "\r                                                                               \r\r 21% (43 of 196) |#####                   | Elapsed Time: 0:00:13 ETA:  0:00:44"
     ]
    },
    {
     "name": "stderr",
     "output_type": "stream",
     "text": [
      "\r                                                                               \r\r 22% (44 of 196) |#####                   | Elapsed Time: 0:00:13 ETA:  0:00:43"
     ]
    },
    {
     "name": "stderr",
     "output_type": "stream",
     "text": [
      "\r                                                                               \r\r 22% (45 of 196) |#####                   | Elapsed Time: 0:00:13 ETA:  0:00:43"
     ]
    },
    {
     "name": "stderr",
     "output_type": "stream",
     "text": [
      "\r                                                                               \r\r 23% (46 of 196) |#####                   | Elapsed Time: 0:00:14 ETA:  0:00:41"
     ]
    },
    {
     "name": "stderr",
     "output_type": "stream",
     "text": [
      "\r                                                                               \r\r 23% (47 of 196) |#####                   | Elapsed Time: 0:00:14 ETA:  0:00:41"
     ]
    },
    {
     "name": "stderr",
     "output_type": "stream",
     "text": [
      "\r                                                                               \r\r 24% (48 of 196) |#####                   | Elapsed Time: 0:00:14 ETA:  0:00:42"
     ]
    },
    {
     "name": "stderr",
     "output_type": "stream",
     "text": [
      "\r                                                                               \r\r 25% (49 of 196) |######                  | Elapsed Time: 0:00:15 ETA:  0:00:47"
     ]
    },
    {
     "name": "stderr",
     "output_type": "stream",
     "text": [
      "\r                                                                               \r\r 25% (50 of 196) |######                  | Elapsed Time: 0:00:15 ETA:  0:00:48"
     ]
    },
    {
     "name": "stderr",
     "output_type": "stream",
     "text": [
      "\r                                                                               \r\r 26% (51 of 196) |######                  | Elapsed Time: 0:00:16 ETA:  0:00:49"
     ]
    },
    {
     "name": "stderr",
     "output_type": "stream",
     "text": [
      "\r                                                                               \r\r 26% (52 of 196) |######                  | Elapsed Time: 0:00:16 ETA:  0:00:49"
     ]
    },
    {
     "name": "stderr",
     "output_type": "stream",
     "text": [
      "\r                                                                               \r\r 27% (53 of 196) |######                  | Elapsed Time: 0:00:16 ETA:  0:00:52"
     ]
    },
    {
     "name": "stderr",
     "output_type": "stream",
     "text": [
      "\r                                                                               \r\r 27% (54 of 196) |######                  | Elapsed Time: 0:00:17 ETA:  0:00:52"
     ]
    },
    {
     "name": "stderr",
     "output_type": "stream",
     "text": [
      "\r                                                                               \r\r 28% (55 of 196) |######                  | Elapsed Time: 0:00:17 ETA:  0:00:53"
     ]
    },
    {
     "name": "stderr",
     "output_type": "stream",
     "text": [
      "\r                                                                               \r\r 28% (56 of 196) |######                  | Elapsed Time: 0:00:17 ETA:  0:00:53"
     ]
    },
    {
     "name": "stderr",
     "output_type": "stream",
     "text": [
      "\r                                                                               \r\r 29% (57 of 196) |######                  | Elapsed Time: 0:00:18 ETA:  0:00:58"
     ]
    },
    {
     "name": "stderr",
     "output_type": "stream",
     "text": [
      "\r                                                                               \r\r 29% (58 of 196) |#######                 | Elapsed Time: 0:00:18 ETA:  0:00:53"
     ]
    },
    {
     "name": "stderr",
     "output_type": "stream",
     "text": [
      "\r                                                                               \r\r 30% (59 of 196) |#######                 | Elapsed Time: 0:00:19 ETA:  0:00:52"
     ]
    },
    {
     "name": "stderr",
     "output_type": "stream",
     "text": [
      "\r                                                                               \r\r 30% (60 of 196) |#######                 | Elapsed Time: 0:00:19 ETA:  0:00:50"
     ]
    },
    {
     "name": "stderr",
     "output_type": "stream",
     "text": [
      "\r                                                                               \r\r 31% (61 of 196) |#######                 | Elapsed Time: 0:00:20 ETA:  0:00:54"
     ]
    },
    {
     "name": "stderr",
     "output_type": "stream",
     "text": [
      "\r                                                                               \r\r 31% (62 of 196) |#######                 | Elapsed Time: 0:00:20 ETA:  0:00:52"
     ]
    },
    {
     "name": "stderr",
     "output_type": "stream",
     "text": [
      "\r                                                                               \r\r 32% (63 of 196) |#######                 | Elapsed Time: 0:00:20 ETA:  0:00:52"
     ]
    },
    {
     "name": "stderr",
     "output_type": "stream",
     "text": [
      "\r                                                                               \r\r 32% (64 of 196) |#######                 | Elapsed Time: 0:00:20 ETA:  0:00:50"
     ]
    },
    {
     "name": "stderr",
     "output_type": "stream",
     "text": [
      "\r                                                                               \r\r 33% (65 of 196) |#######                 | Elapsed Time: 0:00:21 ETA:  0:00:48"
     ]
    },
    {
     "name": "stderr",
     "output_type": "stream",
     "text": [
      "\r                                                                               \r\r 34% (67 of 196) |########                | Elapsed Time: 0:00:21 ETA:  0:00:38"
     ]
    },
    {
     "name": "stdout",
     "output_type": "stream",
     "text": [
      "\nCould not retrieve the seasons for 'Sara Conner Chronicles'\n"
     ]
    },
    {
     "name": "stderr",
     "output_type": "stream",
     "text": [
      "\r                                                                               \r\r 34% (68 of 196) |########                | Elapsed Time: 0:00:21 ETA:  0:00:36"
     ]
    },
    {
     "name": "stderr",
     "output_type": "stream",
     "text": [
      "\r                                                                               \r\r 35% (69 of 196) |########                | Elapsed Time: 0:00:22 ETA:  0:00:35"
     ]
    },
    {
     "name": "stderr",
     "output_type": "stream",
     "text": [
      "\r                                                                               \r\r 35% (70 of 196) |########                | Elapsed Time: 0:00:22 ETA:  0:00:35"
     ]
    },
    {
     "name": "stderr",
     "output_type": "stream",
     "text": [
      "\r                                                                               \r\r 36% (71 of 196) |########                | Elapsed Time: 0:00:22 ETA:  0:00:29"
     ]
    },
    {
     "name": "stderr",
     "output_type": "stream",
     "text": [
      "\r                                                                               \r\r 36% (72 of 196) |########                | Elapsed Time: 0:00:22 ETA:  0:00:28"
     ]
    },
    {
     "name": "stderr",
     "output_type": "stream",
     "text": [
      "\r                                                                               \r\r 37% (73 of 196) |########                | Elapsed Time: 0:00:23 ETA:  0:00:28"
     ]
    },
    {
     "name": "stderr",
     "output_type": "stream",
     "text": [
      "\r                                                                               \r\r 37% (74 of 196) |#########               | Elapsed Time: 0:00:23 ETA:  0:00:34"
     ]
    },
    {
     "name": "stderr",
     "output_type": "stream",
     "text": [
      "\r                                                                               \r\r 38% (75 of 196) |#########               | Elapsed Time: 0:00:23 ETA:  0:00:32"
     ]
    },
    {
     "name": "stderr",
     "output_type": "stream",
     "text": [
      "\r                                                                               \r\r 38% (76 of 196) |#########               | Elapsed Time: 0:00:24 ETA:  0:00:35"
     ]
    },
    {
     "name": "stderr",
     "output_type": "stream",
     "text": [
      "\r                                                                               \r\r 39% (77 of 196) |#########               | Elapsed Time: 0:00:24 ETA:  0:00:35"
     ]
    },
    {
     "name": "stderr",
     "output_type": "stream",
     "text": [
      "\r                                                                               \r\r 39% (78 of 196) |#########               | Elapsed Time: 0:00:24 ETA:  0:00:34"
     ]
    },
    {
     "name": "stderr",
     "output_type": "stream",
     "text": [
      "\r                                                                               \r\r 40% (79 of 196) |#########               | Elapsed Time: 0:00:25 ETA:  0:00:35"
     ]
    },
    {
     "name": "stderr",
     "output_type": "stream",
     "text": [
      "\r                                                                               \r\r 40% (80 of 196) |#########               | Elapsed Time: 0:00:25 ETA:  0:00:39"
     ]
    },
    {
     "name": "stderr",
     "output_type": "stream",
     "text": [
      "\r                                                                               \r\r 41% (81 of 196) |#########               | Elapsed Time: 0:00:25 ETA:  0:00:39"
     ]
    },
    {
     "name": "stderr",
     "output_type": "stream",
     "text": [
      "\r                                                                               \r\r 41% (82 of 196) |##########              | Elapsed Time: 0:00:26 ETA:  0:00:40"
     ]
    },
    {
     "name": "stderr",
     "output_type": "stream",
     "text": [
      "\r                                                                               \r\r 42% (83 of 196) |##########              | Elapsed Time: 0:00:28 ETA:  0:00:55"
     ]
    },
    {
     "name": "stderr",
     "output_type": "stream",
     "text": [
      "\r                                                                               \r\r 42% (84 of 196) |##########              | Elapsed Time: 0:00:28 ETA:  0:00:55"
     ]
    },
    {
     "name": "stderr",
     "output_type": "stream",
     "text": [
      "\r                                                                               \r\r 43% (85 of 196) |##########              | Elapsed Time: 0:00:28 ETA:  0:00:57"
     ]
    },
    {
     "name": "stderr",
     "output_type": "stream",
     "text": [
      "\r                                                                               \r\r 43% (86 of 196) |##########              | Elapsed Time: 0:00:29 ETA:  0:00:57"
     ]
    },
    {
     "name": "stderr",
     "output_type": "stream",
     "text": [
      "\r                                                                               \r\r 44% (87 of 196) |##########              | Elapsed Time: 0:00:29 ETA:  0:00:56"
     ]
    },
    {
     "name": "stderr",
     "output_type": "stream",
     "text": [
      "\r                                                                               \r\r 44% (88 of 196) |##########              | Elapsed Time: 0:00:29 ETA:  0:00:57"
     ]
    },
    {
     "name": "stderr",
     "output_type": "stream",
     "text": [
      "\r                                                                               \r\r 45% (89 of 196) |##########              | Elapsed Time: 0:00:30 ETA:  0:01:00"
     ]
    },
    {
     "name": "stderr",
     "output_type": "stream",
     "text": [
      "\r                                                                               \r\r 45% (90 of 196) |###########             | Elapsed Time: 0:00:30 ETA:  0:00:58"
     ]
    },
    {
     "name": "stderr",
     "output_type": "stream",
     "text": [
      "\r                                                                               \r\r 46% (91 of 196) |###########             | Elapsed Time: 0:00:31 ETA:  0:00:56"
     ]
    },
    {
     "name": "stderr",
     "output_type": "stream",
     "text": [
      "\r                                                                               \r\r 46% (92 of 196) |###########             | Elapsed Time: 0:00:31 ETA:  0:00:37"
     ]
    },
    {
     "name": "stderr",
     "output_type": "stream",
     "text": [
      "\r                                                                               \r\r 47% (93 of 196) |###########             | Elapsed Time: 0:00:31 ETA:  0:00:38"
     ]
    },
    {
     "name": "stderr",
     "output_type": "stream",
     "text": [
      "\r                                                                               \r\r 47% (94 of 196) |###########             | Elapsed Time: 0:00:31 ETA:  0:00:35"
     ]
    },
    {
     "name": "stderr",
     "output_type": "stream",
     "text": [
      "\r                                                                               \r\r 48% (95 of 196) |###########             | Elapsed Time: 0:00:32 ETA:  0:00:33"
     ]
    },
    {
     "name": "stderr",
     "output_type": "stream",
     "text": [
      "\r                                                                               \r\r 48% (96 of 196) |###########             | Elapsed Time: 0:00:32 ETA:  0:00:33"
     ]
    },
    {
     "name": "stderr",
     "output_type": "stream",
     "text": [
      "\r                                                                               \r\r 49% (97 of 196) |###########             | Elapsed Time: 0:00:32 ETA:  0:00:30"
     ]
    },
    {
     "name": "stderr",
     "output_type": "stream",
     "text": [
      "\r                                                                               \r\r 50% (98 of 196) |############            | Elapsed Time: 0:00:32 ETA:  0:00:25"
     ]
    },
    {
     "name": "stderr",
     "output_type": "stream",
     "text": [
      "\r                                                                               \r\r 50% (99 of 196) |############            | Elapsed Time: 0:00:33 ETA:  0:00:26"
     ]
    },
    {
     "name": "stderr",
     "output_type": "stream",
     "text": [
      "\r                                                                               \r\r 51% (100 of 196) |###########            | Elapsed Time: 0:00:33 ETA:  0:00:25"
     ]
    },
    {
     "name": "stderr",
     "output_type": "stream",
     "text": [
      "\r                                                                               \r\r 51% (101 of 196) |###########            | Elapsed Time: 0:00:33 ETA:  0:00:24"
     ]
    },
    {
     "name": "stderr",
     "output_type": "stream",
     "text": [
      "\r                                                                               \r\r 52% (102 of 196) |###########            | Elapsed Time: 0:00:34 ETA:  0:00:26"
     ]
    },
    {
     "name": "stderr",
     "output_type": "stream",
     "text": [
      "\r                                                                               \r\r 52% (103 of 196) |############           | Elapsed Time: 0:00:34 ETA:  0:00:25"
     ]
    },
    {
     "name": "stderr",
     "output_type": "stream",
     "text": [
      "\r                                                                               \r\r 53% (104 of 196) |############           | Elapsed Time: 0:00:34 ETA:  0:00:26"
     ]
    },
    {
     "name": "stderr",
     "output_type": "stream",
     "text": [
      "\r                                                                               \r\r 53% (105 of 196) |############           | Elapsed Time: 0:00:35 ETA:  0:00:29"
     ]
    },
    {
     "name": "stderr",
     "output_type": "stream",
     "text": [
      "\r                                                                               \r\r 54% (106 of 196) |############           | Elapsed Time: 0:00:35 ETA:  0:00:28"
     ]
    },
    {
     "name": "stderr",
     "output_type": "stream",
     "text": [
      "\r                                                                               \r\r 54% (107 of 196) |############           | Elapsed Time: 0:00:35 ETA:  0:00:28"
     ]
    },
    {
     "name": "stderr",
     "output_type": "stream",
     "text": [
      "\r                                                                               \r\r 55% (108 of 196) |############           | Elapsed Time: 0:00:36 ETA:  0:00:27"
     ]
    },
    {
     "name": "stderr",
     "output_type": "stream",
     "text": [
      "\r                                                                               \r\r 55% (109 of 196) |############           | Elapsed Time: 0:00:36 ETA:  0:00:27"
     ]
    },
    {
     "name": "stderr",
     "output_type": "stream",
     "text": [
      "\r                                                                               \r\r 56% (110 of 196) |############           | Elapsed Time: 0:00:36 ETA:  0:00:26"
     ]
    },
    {
     "name": "stderr",
     "output_type": "stream",
     "text": [
      "\r                                                                               \r\r 56% (111 of 196) |#############          | Elapsed Time: 0:00:36 ETA:  0:00:23"
     ]
    },
    {
     "name": "stderr",
     "output_type": "stream",
     "text": [
      "\r                                                                               \r\r 57% (112 of 196) |#############          | Elapsed Time: 0:00:36 ETA:  0:00:22"
     ]
    },
    {
     "name": "stderr",
     "output_type": "stream",
     "text": [
      "\r                                                                               \r\r 57% (113 of 196) |#############          | Elapsed Time: 0:00:37 ETA:  0:00:22"
     ]
    },
    {
     "name": "stderr",
     "output_type": "stream",
     "text": [
      "\r                                                                               \r\r 58% (114 of 196) |#############          | Elapsed Time: 0:00:37 ETA:  0:00:20"
     ]
    },
    {
     "name": "stderr",
     "output_type": "stream",
     "text": [
      "\r                                                                               \r\r 58% (115 of 196) |#############          | Elapsed Time: 0:00:37 ETA:  0:00:20"
     ]
    },
    {
     "name": "stderr",
     "output_type": "stream",
     "text": [
      "\r                                                                               \r\r 59% (116 of 196) |#############          | Elapsed Time: 0:00:37 ETA:  0:00:19"
     ]
    },
    {
     "name": "stderr",
     "output_type": "stream",
     "text": [
      "\r                                                                               \r\r 59% (117 of 196) |#############          | Elapsed Time: 0:00:38 ETA:  0:00:19"
     ]
    },
    {
     "name": "stderr",
     "output_type": "stream",
     "text": [
      "\r                                                                               \r\r 60% (118 of 196) |#############          | Elapsed Time: 0:00:38 ETA:  0:00:19"
     ]
    },
    {
     "name": "stderr",
     "output_type": "stream",
     "text": [
      "\r                                                                               \r\r 60% (119 of 196) |#############          | Elapsed Time: 0:00:38 ETA:  0:00:20"
     ]
    },
    {
     "name": "stderr",
     "output_type": "stream",
     "text": [
      "\r                                                                               \r\r 61% (120 of 196) |##############         | Elapsed Time: 0:00:39 ETA:  0:00:22"
     ]
    },
    {
     "name": "stderr",
     "output_type": "stream",
     "text": [
      "\r                                                                               \r\r 61% (121 of 196) |##############         | Elapsed Time: 0:00:39 ETA:  0:00:22"
     ]
    },
    {
     "name": "stderr",
     "output_type": "stream",
     "text": [
      "\r                                                                               \r\r 62% (122 of 196) |##############         | Elapsed Time: 0:00:39 ETA:  0:00:22"
     ]
    },
    {
     "name": "stderr",
     "output_type": "stream",
     "text": [
      "\r                                                                               \r\r 62% (123 of 196) |##############         | Elapsed Time: 0:00:40 ETA:  0:00:20"
     ]
    },
    {
     "name": "stderr",
     "output_type": "stream",
     "text": [
      "\r                                                                               \r\r 63% (124 of 196) |##############         | Elapsed Time: 0:00:40 ETA:  0:00:20"
     ]
    },
    {
     "name": "stderr",
     "output_type": "stream",
     "text": [
      "\r                                                                               \r\r 63% (125 of 196) |##############         | Elapsed Time: 0:00:40 ETA:  0:00:18"
     ]
    },
    {
     "name": "stderr",
     "output_type": "stream",
     "text": [
      "\r                                                                               \r\r 64% (126 of 196) |##############         | Elapsed Time: 0:00:40 ETA:  0:00:18"
     ]
    },
    {
     "name": "stderr",
     "output_type": "stream",
     "text": [
      "\r                                                                               \r\r 64% (127 of 196) |##############         | Elapsed Time: 0:00:40 ETA:  0:00:17"
     ]
    },
    {
     "name": "stderr",
     "output_type": "stream",
     "text": [
      "\r                                                                               \r\r 65% (128 of 196) |###############        | Elapsed Time: 0:00:41 ETA:  0:00:15"
     ]
    },
    {
     "name": "stderr",
     "output_type": "stream",
     "text": [
      "\r                                                                               \r\r 65% (129 of 196) |###############        | Elapsed Time: 0:00:41 ETA:  0:00:14"
     ]
    },
    {
     "name": "stderr",
     "output_type": "stream",
     "text": [
      "\r                                                                               \r\r 66% (130 of 196) |###############        | Elapsed Time: 0:00:41 ETA:  0:00:14"
     ]
    },
    {
     "name": "stderr",
     "output_type": "stream",
     "text": [
      "\r                                                                               \r\r 66% (131 of 196) |###############        | Elapsed Time: 0:00:41 ETA:  0:00:14"
     ]
    },
    {
     "name": "stderr",
     "output_type": "stream",
     "text": [
      "\r                                                                               \r\r 67% (132 of 196) |###############        | Elapsed Time: 0:00:43 ETA:  0:00:25"
     ]
    },
    {
     "name": "stderr",
     "output_type": "stream",
     "text": [
      "\r                                                                               \r\r 67% (133 of 196) |###############        | Elapsed Time: 0:00:43 ETA:  0:00:24"
     ]
    },
    {
     "name": "stderr",
     "output_type": "stream",
     "text": [
      "\r                                                                               \r\r 68% (134 of 196) |###############        | Elapsed Time: 0:00:44 ETA:  0:00:28"
     ]
    },
    {
     "name": "stderr",
     "output_type": "stream",
     "text": [
      "\r                                                                               \r\r 68% (135 of 196) |###############        | Elapsed Time: 0:00:44 ETA:  0:00:28"
     ]
    },
    {
     "name": "stderr",
     "output_type": "stream",
     "text": [
      "\r                                                                               \r\r 69% (136 of 196) |###############        | Elapsed Time: 0:00:45 ETA:  0:00:29"
     ]
    },
    {
     "name": "stderr",
     "output_type": "stream",
     "text": [
      "\r                                                                               \r\r 69% (137 of 196) |################       | Elapsed Time: 0:00:45 ETA:  0:00:30"
     ]
    },
    {
     "name": "stderr",
     "output_type": "stream",
     "text": [
      "\r                                                                               \r\r 70% (138 of 196) |################       | Elapsed Time: 0:00:45 ETA:  0:00:29"
     ]
    },
    {
     "name": "stderr",
     "output_type": "stream",
     "text": [
      "\r                                                                               \r\r 70% (139 of 196) |################       | Elapsed Time: 0:00:46 ETA:  0:00:29"
     ]
    },
    {
     "name": "stderr",
     "output_type": "stream",
     "text": [
      "\r                                                                               \r\r 71% (140 of 196) |################       | Elapsed Time: 0:00:46 ETA:  0:00:29"
     ]
    },
    {
     "name": "stderr",
     "output_type": "stream",
     "text": [
      "\r                                                                               \r\r 71% (141 of 196) |################       | Elapsed Time: 0:00:46 ETA:  0:00:20"
     ]
    },
    {
     "name": "stderr",
     "output_type": "stream",
     "text": [
      "\r                                                                               \r\r 72% (142 of 196) |################       | Elapsed Time: 0:00:47 ETA:  0:00:21"
     ]
    },
    {
     "name": "stderr",
     "output_type": "stream",
     "text": [
      "\r                                                                               \r\r 72% (143 of 196) |################       | Elapsed Time: 0:00:47 ETA:  0:00:17"
     ]
    },
    {
     "name": "stderr",
     "output_type": "stream",
     "text": [
      "\r                                                                               \r\r 73% (144 of 196) |################       | Elapsed Time: 0:00:47 ETA:  0:00:16"
     ]
    },
    {
     "name": "stderr",
     "output_type": "stream",
     "text": [
      "\r                                                                               \r\r 73% (145 of 196) |#################      | Elapsed Time: 0:00:47 ETA:  0:00:15"
     ]
    },
    {
     "name": "stderr",
     "output_type": "stream",
     "text": [
      "\r                                                                               \r\r 74% (146 of 196) |#################      | Elapsed Time: 0:00:48 ETA:  0:00:13"
     ]
    },
    {
     "name": "stderr",
     "output_type": "stream",
     "text": [
      "\r                                                                               \r\r 75% (147 of 196) |#################      | Elapsed Time: 0:00:48 ETA:  0:00:14"
     ]
    },
    {
     "name": "stderr",
     "output_type": "stream",
     "text": [
      "\r                                                                               \r\r 75% (148 of 196) |#################      | Elapsed Time: 0:00:48 ETA:  0:00:14"
     ]
    },
    {
     "name": "stderr",
     "output_type": "stream",
     "text": [
      "\r                                                                               \r\r 76% (149 of 196) |#################      | Elapsed Time: 0:00:49 ETA:  0:00:13"
     ]
    },
    {
     "name": "stderr",
     "output_type": "stream",
     "text": [
      "\r                                                                               \r\r 76% (150 of 196) |#################      | Elapsed Time: 0:00:49 ETA:  0:00:13"
     ]
    },
    {
     "name": "stderr",
     "output_type": "stream",
     "text": [
      "\r                                                                               \r\r 77% (151 of 196) |#################      | Elapsed Time: 0:00:49 ETA:  0:00:12"
     ]
    },
    {
     "name": "stderr",
     "output_type": "stream",
     "text": [
      "\r                                                                               \r\r 77% (152 of 196) |#################      | Elapsed Time: 0:00:51 ETA:  0:00:19"
     ]
    },
    {
     "name": "stderr",
     "output_type": "stream",
     "text": [
      "\r                                                                               \r\r 78% (153 of 196) |#################      | Elapsed Time: 0:00:51 ETA:  0:00:18"
     ]
    },
    {
     "name": "stderr",
     "output_type": "stream",
     "text": [
      "\r                                                                               \r\r 78% (154 of 196) |##################     | Elapsed Time: 0:00:52 ETA:  0:00:19"
     ]
    },
    {
     "name": "stderr",
     "output_type": "stream",
     "text": [
      "\r                                                                               \r\r 79% (155 of 196) |##################     | Elapsed Time: 0:00:52 ETA:  0:00:18"
     ]
    },
    {
     "name": "stderr",
     "output_type": "stream",
     "text": [
      "\r                                                                               \r\r 79% (156 of 196) |##################     | Elapsed Time: 0:00:52 ETA:  0:00:17"
     ]
    },
    {
     "name": "stderr",
     "output_type": "stream",
     "text": [
      "\r                                                                               \r\r 80% (157 of 196) |##################     | Elapsed Time: 0:00:52 ETA:  0:00:16"
     ]
    },
    {
     "name": "stderr",
     "output_type": "stream",
     "text": [
      "\r                                                                               \r\r 80% (158 of 196) |##################     | Elapsed Time: 0:00:53 ETA:  0:00:18"
     ]
    },
    {
     "name": "stderr",
     "output_type": "stream",
     "text": [
      "\r                                                                               \r\r 81% (159 of 196) |##################     | Elapsed Time: 0:00:53 ETA:  0:00:18"
     ]
    },
    {
     "name": "stderr",
     "output_type": "stream",
     "text": [
      "\r                                                                               \r\r 81% (160 of 196) |##################     | Elapsed Time: 0:00:54 ETA:  0:00:17"
     ]
    },
    {
     "name": "stderr",
     "output_type": "stream",
     "text": [
      "\r                                                                               \r\r 82% (161 of 196) |##################     | Elapsed Time: 0:00:54 ETA:  0:00:12"
     ]
    },
    {
     "name": "stderr",
     "output_type": "stream",
     "text": [
      "\r                                                                               \r\r 82% (162 of 196) |###################    | Elapsed Time: 0:00:54 ETA:  0:00:11"
     ]
    },
    {
     "name": "stderr",
     "output_type": "stream",
     "text": [
      "\r                                                                               \r\r 83% (163 of 196) |###################    | Elapsed Time: 0:00:55 ETA:  0:00:10"
     ]
    },
    {
     "name": "stderr",
     "output_type": "stream",
     "text": [
      "\r                                                                               \r\r 83% (164 of 196) |###################    | Elapsed Time: 0:00:55 ETA:  0:00:11"
     ]
    },
    {
     "name": "stderr",
     "output_type": "stream",
     "text": [
      "\r                                                                               \r\r 84% (165 of 196) |###################    | Elapsed Time: 0:00:55 ETA:  0:00:11"
     ]
    },
    {
     "name": "stderr",
     "output_type": "stream",
     "text": [
      "\r                                                                               \r\r 84% (166 of 196) |###################    | Elapsed Time: 0:00:56 ETA:  0:00:12"
     ]
    },
    {
     "name": "stderr",
     "output_type": "stream",
     "text": [
      "\r                                                                               \r\r 85% (167 of 196) |###################    | Elapsed Time: 0:00:56 ETA:  0:00:10"
     ]
    },
    {
     "name": "stderr",
     "output_type": "stream",
     "text": [
      "\r                                                                               \r\r 85% (168 of 196) |###################    | Elapsed Time: 0:00:57 ETA:  0:00:10"
     ]
    },
    {
     "name": "stderr",
     "output_type": "stream",
     "text": [
      "\r                                                                               \r\r 86% (169 of 196) |###################    | Elapsed Time: 0:00:57 ETA:  0:00:10"
     ]
    },
    {
     "name": "stderr",
     "output_type": "stream",
     "text": [
      "\r                                                                               \r\r 86% (170 of 196) |###################    | Elapsed Time: 0:00:58 ETA:  0:00:09"
     ]
    },
    {
     "name": "stderr",
     "output_type": "stream",
     "text": [
      "\r                                                                               \r\r 87% (171 of 196) |####################   | Elapsed Time: 0:00:58 ETA:  0:00:09"
     ]
    },
    {
     "name": "stderr",
     "output_type": "stream",
     "text": [
      "\r                                                                               \r\r 87% (172 of 196) |####################   | Elapsed Time: 0:00:58 ETA:  0:00:09"
     ]
    },
    {
     "name": "stderr",
     "output_type": "stream",
     "text": [
      "\r                                                                               \r\r 88% (173 of 196) |####################   | Elapsed Time: 0:00:58 ETA:  0:00:07"
     ]
    },
    {
     "name": "stderr",
     "output_type": "stream",
     "text": [
      "\r                                                                               \r\r 88% (174 of 196) |####################   | Elapsed Time: 0:00:58 ETA:  0:00:07"
     ]
    },
    {
     "name": "stderr",
     "output_type": "stream",
     "text": [
      "\r                                                                               \r\r 89% (175 of 196) |####################   | Elapsed Time: 0:00:59 ETA:  0:00:05"
     ]
    },
    {
     "name": "stderr",
     "output_type": "stream",
     "text": [
      "\r                                                                               \r\r 89% (176 of 196) |####################   | Elapsed Time: 0:00:59 ETA:  0:00:05"
     ]
    },
    {
     "name": "stderr",
     "output_type": "stream",
     "text": [
      "\r                                                                               \r\r 90% (177 of 196) |####################   | Elapsed Time: 0:00:59 ETA:  0:00:04"
     ]
    },
    {
     "name": "stderr",
     "output_type": "stream",
     "text": [
      "\r                                                                               \r\r 90% (178 of 196) |####################   | Elapsed Time: 0:00:59 ETA:  0:00:04"
     ]
    },
    {
     "name": "stderr",
     "output_type": "stream",
     "text": [
      "\r                                                                               \r\r 91% (179 of 196) |#####################  | Elapsed Time: 0:00:59 ETA:  0:00:03"
     ]
    },
    {
     "name": "stderr",
     "output_type": "stream",
     "text": [
      "\r                                                                               \r\r 91% (180 of 196) |#####################  | Elapsed Time: 0:01:00 ETA:  0:00:03"
     ]
    },
    {
     "name": "stderr",
     "output_type": "stream",
     "text": [
      "\r                                                                               \r\r 92% (181 of 196) |#####################  | Elapsed Time: 0:01:00 ETA:  0:00:03"
     ]
    },
    {
     "name": "stderr",
     "output_type": "stream",
     "text": [
      "\r                                                                               \r\r 92% (182 of 196) |#####################  | Elapsed Time: 0:01:00 ETA:  0:00:02"
     ]
    },
    {
     "name": "stderr",
     "output_type": "stream",
     "text": [
      "\r                                                                               \r\r 93% (183 of 196) |#####################  | Elapsed Time: 0:01:01 ETA:  0:00:03"
     ]
    },
    {
     "name": "stderr",
     "output_type": "stream",
     "text": [
      "\r                                                                               \r\r 93% (184 of 196) |#####################  | Elapsed Time: 0:01:01 ETA:  0:00:03"
     ]
    },
    {
     "name": "stderr",
     "output_type": "stream",
     "text": [
      "\r                                                                               \r\r 94% (185 of 196) |#####################  | Elapsed Time: 0:01:01 ETA:  0:00:02"
     ]
    },
    {
     "name": "stderr",
     "output_type": "stream",
     "text": [
      "\r                                                                               \r\r 94% (186 of 196) |#####################  | Elapsed Time: 0:01:01 ETA:  0:00:02"
     ]
    },
    {
     "name": "stderr",
     "output_type": "stream",
     "text": [
      "\r                                                                               \r\r 95% (187 of 196) |#####################  | Elapsed Time: 0:01:02 ETA:  0:00:02"
     ]
    },
    {
     "name": "stderr",
     "output_type": "stream",
     "text": [
      "\r                                                                               \r\r 95% (188 of 196) |###################### | Elapsed Time: 0:01:02 ETA:  0:00:02"
     ]
    },
    {
     "name": "stderr",
     "output_type": "stream",
     "text": [
      "\r                                                                               \r\r 96% (189 of 196) |###################### | Elapsed Time: 0:01:02 ETA:  0:00:02"
     ]
    },
    {
     "name": "stderr",
     "output_type": "stream",
     "text": [
      "\r                                                                               \r\r 96% (190 of 196) |###################### | Elapsed Time: 0:01:02 ETA:  0:00:01"
     ]
    },
    {
     "name": "stderr",
     "output_type": "stream",
     "text": [
      "\r                                                                               \r\r 97% (191 of 196) |###################### | Elapsed Time: 0:01:03 ETA:  0:00:01"
     ]
    },
    {
     "name": "stderr",
     "output_type": "stream",
     "text": [
      "\r                                                                               \r\r 97% (192 of 196) |###################### | Elapsed Time: 0:01:03 ETA:  0:00:01"
     ]
    },
    {
     "name": "stderr",
     "output_type": "stream",
     "text": [
      "\r                                                                               \r\r 98% (193 of 196) |###################### | Elapsed Time: 0:01:03 ETA:  0:00:00"
     ]
    },
    {
     "name": "stderr",
     "output_type": "stream",
     "text": [
      "\r                                                                               \r\r 98% (194 of 196) |###################### | Elapsed Time: 0:01:03 ETA:  0:00:00"
     ]
    },
    {
     "name": "stderr",
     "output_type": "stream",
     "text": [
      "\r                                                                               \r\r 99% (195 of 196) |###################### | Elapsed Time: 0:01:04 ETA:  0:00:00"
     ]
    },
    {
     "name": "stdout",
     "output_type": "stream",
     "text": [
      "Could not load the table, trying without keyword arguments.\n"
     ]
    },
    {
     "data": {
      "text/html": [
       "<div>\n",
       "<style scoped>\n",
       "    .dataframe tbody tr th:only-of-type {\n",
       "        vertical-align: middle;\n",
       "    }\n",
       "\n",
       "    .dataframe tbody tr th {\n",
       "        vertical-align: top;\n",
       "    }\n",
       "\n",
       "    .dataframe thead th {\n",
       "        text-align: right;\n",
       "    }\n",
       "</style>\n",
       "<table border=\"1\" class=\"dataframe\">\n",
       "  <thead>\n",
       "    <tr style=\"text-align: right;\">\n",
       "      <th></th>\n",
       "      <th>haveWatched</th>\n",
       "      <th>imdbId</th>\n",
       "      <th>imdbRating</th>\n",
       "      <th>myRating</th>\n",
       "      <th>status</th>\n",
       "      <th>synopsis</th>\n",
       "      <th>title</th>\n",
       "      <th>totalEpisodes</th>\n",
       "      <th>totalSeasons</th>\n",
       "      <th>yearAired</th>\n",
       "    </tr>\n",
       "  </thead>\n",
       "  <tbody>\n",
       "    <tr>\n",
       "      <th>0</th>\n",
       "      <td>yes</td>\n",
       "      <td>tt0285331</td>\n",
       "      <td>8.4</td>\n",
       "      <td>7.0</td>\n",
       "      <td>Finished Airing</td>\n",
       "      <td>Jack Bauer, Director of Field Ops for the Coun...</td>\n",
       "      <td>24</td>\n",
       "      <td>195</td>\n",
       "      <td>8.0</td>\n",
       "      <td>2001–2010</td>\n",
       "    </tr>\n",
       "    <tr>\n",
       "      <th>1</th>\n",
       "      <td>yes</td>\n",
       "      <td>tt3148266</td>\n",
       "      <td>7.6</td>\n",
       "      <td>8.0</td>\n",
       "      <td>Currently Airing</td>\n",
       "      <td>Follows the journey of a time traveler from th...</td>\n",
       "      <td>12 Monkeys</td>\n",
       "      <td>43</td>\n",
       "      <td>4.0</td>\n",
       "      <td>2015–</td>\n",
       "    </tr>\n",
       "    <tr>\n",
       "      <th>2</th>\n",
       "      <td>yes</td>\n",
       "      <td>tt2266639</td>\n",
       "      <td>5.7</td>\n",
       "      <td>5.0</td>\n",
       "      <td>Finished Airing</td>\n",
       "      <td>President Gilcrest and his trophy wife are liv...</td>\n",
       "      <td>1600 Penn</td>\n",
       "      <td>7</td>\n",
       "      <td>1.0</td>\n",
       "      <td>2012–2013</td>\n",
       "    </tr>\n",
       "    <tr>\n",
       "      <th>3</th>\n",
       "      <td>partial</td>\n",
       "      <td>tt1305826</td>\n",
       "      <td>8.6</td>\n",
       "      <td>NaN</td>\n",
       "      <td>Currently Airing</td>\n",
       "      <td>A human boy named Finn and adoptive brother an...</td>\n",
       "      <td>Adventure Time</td>\n",
       "      <td>205</td>\n",
       "      <td>9.0</td>\n",
       "      <td>2010–2018</td>\n",
       "    </tr>\n",
       "    <tr>\n",
       "      <th>4</th>\n",
       "      <td>no</td>\n",
       "      <td>tt0105941</td>\n",
       "      <td>7.9</td>\n",
       "      <td>NaN</td>\n",
       "      <td>Finished Airing</td>\n",
       "      <td>Ensemble cast of off-the-wall Warner Brothers ...</td>\n",
       "      <td>Animaniacs</td>\n",
       "      <td>30</td>\n",
       "      <td>5.0</td>\n",
       "      <td>1993–1998</td>\n",
       "    </tr>\n",
       "    <tr>\n",
       "      <th>5</th>\n",
       "      <td>yes</td>\n",
       "      <td>tt1819509</td>\n",
       "      <td>7.3</td>\n",
       "      <td>5.0</td>\n",
       "      <td>Finished Airing</td>\n",
       "      <td>Chloe is a New York party girl with the morals...</td>\n",
       "      <td>Don't Trust the B---- in Apartment 23</td>\n",
       "      <td>27</td>\n",
       "      <td>2.0</td>\n",
       "      <td>2012–2013</td>\n",
       "    </tr>\n",
       "    <tr>\n",
       "      <th>6</th>\n",
       "      <td>yes</td>\n",
       "      <td>tt2193021</td>\n",
       "      <td>7.8</td>\n",
       "      <td>7.0</td>\n",
       "      <td>Currently Airing</td>\n",
       "      <td>Spoiled billionaire playboy Oliver Queen is mi...</td>\n",
       "      <td>Arrow</td>\n",
       "      <td>124</td>\n",
       "      <td>6.0</td>\n",
       "      <td>2012–</td>\n",
       "    </tr>\n",
       "    <tr>\n",
       "      <th>7</th>\n",
       "      <td>yes</td>\n",
       "      <td>tt3696720</td>\n",
       "      <td>7.2</td>\n",
       "      <td>7.0</td>\n",
       "      <td>Finished Airing</td>\n",
       "      <td>A young woman's murder causes the subjects of ...</td>\n",
       "      <td>Ascension</td>\n",
       "      <td>6</td>\n",
       "      <td>1.0</td>\n",
       "      <td>2014–</td>\n",
       "    </tr>\n",
       "    <tr>\n",
       "      <th>8</th>\n",
       "      <td>no</td>\n",
       "      <td>tt0185906</td>\n",
       "      <td>9.5</td>\n",
       "      <td>NaN</td>\n",
       "      <td>Finished Airing</td>\n",
       "      <td>The story of Easy Company of the U.S. Army 101...</td>\n",
       "      <td>Band of Brothers</td>\n",
       "      <td>10</td>\n",
       "      <td>1.0</td>\n",
       "      <td>2001</td>\n",
       "    </tr>\n",
       "    <tr>\n",
       "      <th>9</th>\n",
       "      <td>yes</td>\n",
       "      <td>tt0407362</td>\n",
       "      <td>8.7</td>\n",
       "      <td>8.0</td>\n",
       "      <td>Finished Airing</td>\n",
       "      <td>When an old enemy, the Cylons, resurface and o...</td>\n",
       "      <td>Battlestar Galactica</td>\n",
       "      <td>71</td>\n",
       "      <td>4.0</td>\n",
       "      <td>2004–2009</td>\n",
       "    </tr>\n",
       "    <tr>\n",
       "      <th>10</th>\n",
       "      <td>NaN</td>\n",
       "      <td>tt1595680</td>\n",
       "      <td>7.5</td>\n",
       "      <td>NaN</td>\n",
       "      <td>NaN</td>\n",
       "      <td>Three twenty-somethings share a house and try ...</td>\n",
       "      <td>Being Human</td>\n",
       "      <td>39</td>\n",
       "      <td>4.0</td>\n",
       "      <td>2011–2014</td>\n",
       "    </tr>\n",
       "    <tr>\n",
       "      <th>11</th>\n",
       "      <td>NaN</td>\n",
       "      <td>tt1235547</td>\n",
       "      <td>8.2</td>\n",
       "      <td>NaN</td>\n",
       "      <td>Finished Airing</td>\n",
       "      <td>In a science-based company, a manager tries to...</td>\n",
       "      <td>Better Off Ted</td>\n",
       "      <td>23</td>\n",
       "      <td>2.0</td>\n",
       "      <td>2009–2010</td>\n",
       "    </tr>\n",
       "    <tr>\n",
       "      <th>12</th>\n",
       "      <td>yes</td>\n",
       "      <td>tt2249364</td>\n",
       "      <td>8.4</td>\n",
       "      <td>8.0</td>\n",
       "      <td>Currently Airing</td>\n",
       "      <td>The murder of a young boy in a small coastal t...</td>\n",
       "      <td>Broadchurch</td>\n",
       "      <td>24</td>\n",
       "      <td>3.0</td>\n",
       "      <td>2013–2017</td>\n",
       "    </tr>\n",
       "    <tr>\n",
       "      <th>13</th>\n",
       "      <td>yes</td>\n",
       "      <td>tt2467372</td>\n",
       "      <td>8.3</td>\n",
       "      <td>8.0</td>\n",
       "      <td>Currently Airing</td>\n",
       "      <td>Jake Peralta, an immature but talented NYPD de...</td>\n",
       "      <td>Brooklyn Nine-Nine</td>\n",
       "      <td>100</td>\n",
       "      <td>5.0</td>\n",
       "      <td>2013–</td>\n",
       "    </tr>\n",
       "    <tr>\n",
       "      <th>14</th>\n",
       "      <td>yes</td>\n",
       "      <td>tt0810788</td>\n",
       "      <td>8.0</td>\n",
       "      <td>NaN</td>\n",
       "      <td>Finished Airing</td>\n",
       "      <td>A spy recently disavowed by the U.S. governmen...</td>\n",
       "      <td>Burn Notice</td>\n",
       "      <td>108</td>\n",
       "      <td>7.0</td>\n",
       "      <td>2007–2013</td>\n",
       "    </tr>\n",
       "    <tr>\n",
       "      <th>15</th>\n",
       "      <td>yes</td>\n",
       "      <td>tt1219024</td>\n",
       "      <td>8.2</td>\n",
       "      <td>4.0</td>\n",
       "      <td>Finished Airing</td>\n",
       "      <td>After a serial killer imitates the plots of hi...</td>\n",
       "      <td>Castle</td>\n",
       "      <td>173</td>\n",
       "      <td>8.0</td>\n",
       "      <td>2009–2016</td>\n",
       "    </tr>\n",
       "    <tr>\n",
       "      <th>16</th>\n",
       "      <td>yes</td>\n",
       "      <td>tt0934814</td>\n",
       "      <td>8.2</td>\n",
       "      <td>6.0</td>\n",
       "      <td>Finished Airing</td>\n",
       "      <td>When a twenty-something computer geek inadvert...</td>\n",
       "      <td>Chuck</td>\n",
       "      <td>91</td>\n",
       "      <td>5.0</td>\n",
       "      <td>2007–2012</td>\n",
       "    </tr>\n",
       "    <tr>\n",
       "      <th>17</th>\n",
       "      <td>NaN</td>\n",
       "      <td>tt0312109</td>\n",
       "      <td>7.2</td>\n",
       "      <td>NaN</td>\n",
       "      <td>Finished Airing</td>\n",
       "      <td>The adventures of a group of ten-year-old frie...</td>\n",
       "      <td>Codename: Kids Next Door</td>\n",
       "      <td>32</td>\n",
       "      <td>6.0</td>\n",
       "      <td>2002–2008</td>\n",
       "    </tr>\n",
       "    <tr>\n",
       "      <th>18</th>\n",
       "      <td>yes</td>\n",
       "      <td>tt4209256</td>\n",
       "      <td>7.3</td>\n",
       "      <td>3.0</td>\n",
       "      <td>Currently Airing</td>\n",
       "      <td>In the wake of a mysterious alien invasion, a ...</td>\n",
       "      <td>Colony</td>\n",
       "      <td>23</td>\n",
       "      <td>2.0</td>\n",
       "      <td>2016–</td>\n",
       "    </tr>\n",
       "    <tr>\n",
       "      <th>19</th>\n",
       "      <td>NaN</td>\n",
       "      <td>tt1439629</td>\n",
       "      <td>8.5</td>\n",
       "      <td>NaN</td>\n",
       "      <td>Finished Airing</td>\n",
       "      <td>A suspended lawyer is forced to enroll in a co...</td>\n",
       "      <td>Community</td>\n",
       "      <td>111</td>\n",
       "      <td>6.0</td>\n",
       "      <td>2009–2015</td>\n",
       "    </tr>\n",
       "    <tr>\n",
       "      <th>20</th>\n",
       "      <td>NaN</td>\n",
       "      <td>tt3489184</td>\n",
       "      <td>7.6</td>\n",
       "      <td>NaN</td>\n",
       "      <td>Finished Airing</td>\n",
       "      <td>A man struggling with his faith who is haunted...</td>\n",
       "      <td>Constantine</td>\n",
       "      <td>13</td>\n",
       "      <td>1.0</td>\n",
       "      <td>2014–2015</td>\n",
       "    </tr>\n",
       "    <tr>\n",
       "      <th>21</th>\n",
       "      <td>NaN</td>\n",
       "      <td>tt4421578</td>\n",
       "      <td>7.2</td>\n",
       "      <td>NaN</td>\n",
       "      <td>Upcoming</td>\n",
       "      <td>The series follows an epidemic that breaks out...</td>\n",
       "      <td>Containment</td>\n",
       "      <td>13</td>\n",
       "      <td>1.0</td>\n",
       "      <td>2016</td>\n",
       "    </tr>\n",
       "    <tr>\n",
       "      <th>22</th>\n",
       "      <td>yes</td>\n",
       "      <td>tt1954347</td>\n",
       "      <td>7.7</td>\n",
       "      <td>6.0</td>\n",
       "      <td>Currently Airing</td>\n",
       "      <td>A detective from the year 2077 finds herself t...</td>\n",
       "      <td>Continuum</td>\n",
       "      <td>42</td>\n",
       "      <td>4.0</td>\n",
       "      <td>2012–2015</td>\n",
       "    </tr>\n",
       "    <tr>\n",
       "      <th>23</th>\n",
       "      <td>NaN</td>\n",
       "      <td>tt0220880</td>\n",
       "      <td>8.3</td>\n",
       "      <td>NaN</td>\n",
       "      <td>Finished Airing</td>\n",
       "      <td>The offbeat adventures of Courage, a cowardly ...</td>\n",
       "      <td>Courage the Cowardly Dog</td>\n",
       "      <td>24</td>\n",
       "      <td>4.0</td>\n",
       "      <td>1999–2002</td>\n",
       "    </tr>\n",
       "    <tr>\n",
       "      <th>24</th>\n",
       "      <td>no</td>\n",
       "      <td>tt2094262</td>\n",
       "      <td>8.1</td>\n",
       "      <td>NaN</td>\n",
       "      <td>Finished Airing</td>\n",
       "      <td>Follows Leonardo Da Vinci during his early day...</td>\n",
       "      <td>Da Vinci's Demons</td>\n",
       "      <td>28</td>\n",
       "      <td>3.0</td>\n",
       "      <td>2013–2015</td>\n",
       "    </tr>\n",
       "    <tr>\n",
       "      <th>25</th>\n",
       "      <td>yes</td>\n",
       "      <td>tt4159076</td>\n",
       "      <td>7.5</td>\n",
       "      <td>8.0</td>\n",
       "      <td>Currently Airing</td>\n",
       "      <td>In the dystopian 27th century, six people wake...</td>\n",
       "      <td>Dark Matter</td>\n",
       "      <td>39</td>\n",
       "      <td>3.0</td>\n",
       "      <td>2015–2017</td>\n",
       "    </tr>\n",
       "    <tr>\n",
       "      <th>26</th>\n",
       "      <td>NaN</td>\n",
       "      <td>tt0348913</td>\n",
       "      <td>8.1</td>\n",
       "      <td>8.0</td>\n",
       "      <td>Finished Airing</td>\n",
       "      <td>After being hit on the head by a toilet seat, ...</td>\n",
       "      <td>Dead Like Me</td>\n",
       "      <td>29</td>\n",
       "      <td>2.0</td>\n",
       "      <td>2003–2004</td>\n",
       "    </tr>\n",
       "    <tr>\n",
       "      <th>27</th>\n",
       "      <td>NaN</td>\n",
       "      <td>tt2189221</td>\n",
       "      <td>7.0</td>\n",
       "      <td>NaN</td>\n",
       "      <td>Currently Airing</td>\n",
       "      <td>In the year 2046, it's a new Earth - with new ...</td>\n",
       "      <td>Defiance</td>\n",
       "      <td>39</td>\n",
       "      <td>3.0</td>\n",
       "      <td>2013–2015</td>\n",
       "    </tr>\n",
       "    <tr>\n",
       "      <th>28</th>\n",
       "      <td>NaN</td>\n",
       "      <td>tt0773262</td>\n",
       "      <td>8.7</td>\n",
       "      <td>7.0</td>\n",
       "      <td>NaN</td>\n",
       "      <td>By day, mild-mannered Dexter is a blood-spatte...</td>\n",
       "      <td>Dexter</td>\n",
       "      <td>96</td>\n",
       "      <td>8.0</td>\n",
       "      <td>2006–2013</td>\n",
       "    </tr>\n",
       "    <tr>\n",
       "      <th>29</th>\n",
       "      <td>NaN</td>\n",
       "      <td>tt4677934</td>\n",
       "      <td>8.1</td>\n",
       "      <td>NaN</td>\n",
       "      <td>Currently Airing</td>\n",
       "      <td>Documentary Now parodies the current obsession...</td>\n",
       "      <td>Documentary Now!</td>\n",
       "      <td>16</td>\n",
       "      <td>3.0</td>\n",
       "      <td>2015–</td>\n",
       "    </tr>\n",
       "    <tr>\n",
       "      <th>...</th>\n",
       "      <td>...</td>\n",
       "      <td>...</td>\n",
       "      <td>...</td>\n",
       "      <td>...</td>\n",
       "      <td>...</td>\n",
       "      <td>...</td>\n",
       "      <td>...</td>\n",
       "      <td>...</td>\n",
       "      <td>...</td>\n",
       "      <td>...</td>\n",
       "    </tr>\n",
       "    <tr>\n",
       "      <th>165</th>\n",
       "      <td>NaN</td>\n",
       "      <td>tt0337792</td>\n",
       "      <td>8.4</td>\n",
       "      <td>7.0</td>\n",
       "      <td>Finished Airing</td>\n",
       "      <td>A psychologist gets inside of the minds of bot...</td>\n",
       "      <td>Wire in the Blood</td>\n",
       "      <td>24</td>\n",
       "      <td>6.0</td>\n",
       "      <td>2002–</td>\n",
       "    </tr>\n",
       "    <tr>\n",
       "      <th>166</th>\n",
       "      <td>NaN</td>\n",
       "      <td>tt1610527</td>\n",
       "      <td>8.2</td>\n",
       "      <td>7.0</td>\n",
       "      <td>Still Airing</td>\n",
       "      <td>A single-camera comedy featuring three friends...</td>\n",
       "      <td>Workaholics</td>\n",
       "      <td>87</td>\n",
       "      <td>7.0</td>\n",
       "      <td>2011–2017</td>\n",
       "    </tr>\n",
       "    <tr>\n",
       "      <th>167</th>\n",
       "      <td>partial</td>\n",
       "      <td>tt4061080</td>\n",
       "      <td>7.7</td>\n",
       "      <td>9.0</td>\n",
       "      <td>Still Airing</td>\n",
       "      <td>A program that follows a couple who must navig...</td>\n",
       "      <td>Love</td>\n",
       "      <td>24</td>\n",
       "      <td>3.0</td>\n",
       "      <td>2016–</td>\n",
       "    </tr>\n",
       "    <tr>\n",
       "      <th>168</th>\n",
       "      <td>NaN</td>\n",
       "      <td>tt3339966</td>\n",
       "      <td>7.8</td>\n",
       "      <td>8.0</td>\n",
       "      <td>Still Airing</td>\n",
       "      <td>A woman is rescued from a doomsday cult and st...</td>\n",
       "      <td>Unbreakable Kimmy Schmidt</td>\n",
       "      <td>39</td>\n",
       "      <td>3.0</td>\n",
       "      <td>2015–</td>\n",
       "    </tr>\n",
       "    <tr>\n",
       "      <th>169</th>\n",
       "      <td>yes</td>\n",
       "      <td>tt4422836</td>\n",
       "      <td>7.8</td>\n",
       "      <td>7.5</td>\n",
       "      <td>Finished Airing</td>\n",
       "      <td>An average 28-year-old man who gains the abili...</td>\n",
       "      <td>Limitless</td>\n",
       "      <td>22</td>\n",
       "      <td>1.0</td>\n",
       "      <td>2015–2016</td>\n",
       "    </tr>\n",
       "    <tr>\n",
       "      <th>170</th>\n",
       "      <td>NaN</td>\n",
       "      <td>tt5191110</td>\n",
       "      <td>7.5</td>\n",
       "      <td>NaN</td>\n",
       "      <td>NaN</td>\n",
       "      <td>Follows Daniel Miller (Richard Armitage), who ...</td>\n",
       "      <td>Berlin Station</td>\n",
       "      <td>19</td>\n",
       "      <td>2.0</td>\n",
       "      <td>2016–</td>\n",
       "    </tr>\n",
       "    <tr>\n",
       "      <th>171</th>\n",
       "      <td>NaN</td>\n",
       "      <td>tt4687882</td>\n",
       "      <td>8.2</td>\n",
       "      <td>NaN</td>\n",
       "      <td>NaN</td>\n",
       "      <td>To prevent Iran from going nuclear, intelligen...</td>\n",
       "      <td>Patriot</td>\n",
       "      <td>10</td>\n",
       "      <td>1.0</td>\n",
       "      <td>2015–</td>\n",
       "    </tr>\n",
       "    <tr>\n",
       "      <th>172</th>\n",
       "      <td>NaN</td>\n",
       "      <td>tt5212822</td>\n",
       "      <td>7.8</td>\n",
       "      <td>NaN</td>\n",
       "      <td>NaN</td>\n",
       "      <td>A dark comedy that focuses on a female con art...</td>\n",
       "      <td>Imposters</td>\n",
       "      <td>10</td>\n",
       "      <td>1.0</td>\n",
       "      <td>2017–</td>\n",
       "    </tr>\n",
       "    <tr>\n",
       "      <th>173</th>\n",
       "      <td>NaN</td>\n",
       "      <td>tt5012644</td>\n",
       "      <td>7.6</td>\n",
       "      <td>7.0</td>\n",
       "      <td>NaN</td>\n",
       "      <td>Hell-bent on bringing justice to those who get...</td>\n",
       "      <td>Sweet/Vicious</td>\n",
       "      <td>10</td>\n",
       "      <td>1.0</td>\n",
       "      <td>2016–2017</td>\n",
       "    </tr>\n",
       "    <tr>\n",
       "      <th>174</th>\n",
       "      <td>NaN</td>\n",
       "      <td>tt5511582</td>\n",
       "      <td>7.6</td>\n",
       "      <td>NaN</td>\n",
       "      <td>NaN</td>\n",
       "      <td>An unlikely trio travel through time in order ...</td>\n",
       "      <td>Timeless</td>\n",
       "      <td>16</td>\n",
       "      <td>1.0</td>\n",
       "      <td>2016–</td>\n",
       "    </tr>\n",
       "    <tr>\n",
       "      <th>175</th>\n",
       "      <td>NaN</td>\n",
       "      <td>tt1439629</td>\n",
       "      <td>8.5</td>\n",
       "      <td>9.0</td>\n",
       "      <td>Finished Airing</td>\n",
       "      <td>A suspended lawyer is forced to enroll in a co...</td>\n",
       "      <td>Community</td>\n",
       "      <td>111</td>\n",
       "      <td>6.0</td>\n",
       "      <td>2009–2015</td>\n",
       "    </tr>\n",
       "    <tr>\n",
       "      <th>176</th>\n",
       "      <td>NaN</td>\n",
       "      <td>tt4181172</td>\n",
       "      <td>7.6</td>\n",
       "      <td>NaN</td>\n",
       "      <td>NaN</td>\n",
       "      <td>A conspiracy thriller that follows the journey...</td>\n",
       "      <td>Shooter</td>\n",
       "      <td>18</td>\n",
       "      <td>2.0</td>\n",
       "      <td>2016–</td>\n",
       "    </tr>\n",
       "    <tr>\n",
       "      <th>177</th>\n",
       "      <td>NaN</td>\n",
       "      <td>tt5503718</td>\n",
       "      <td>7.0</td>\n",
       "      <td>8.0</td>\n",
       "      <td>NaN</td>\n",
       "      <td>Therapist Jean Holloway becomes too immersed i...</td>\n",
       "      <td>Gypsy</td>\n",
       "      <td>10</td>\n",
       "      <td>1.0</td>\n",
       "      <td>2017</td>\n",
       "    </tr>\n",
       "    <tr>\n",
       "      <th>178</th>\n",
       "      <td>NaN</td>\n",
       "      <td>tt4230076</td>\n",
       "      <td>7.6</td>\n",
       "      <td>NaN</td>\n",
       "      <td>NaN</td>\n",
       "      <td>Daredevil, Jessica Jones, Luke Cage, and Iron ...</td>\n",
       "      <td>The Defenders</td>\n",
       "      <td>8</td>\n",
       "      <td>1.0</td>\n",
       "      <td>2017–</td>\n",
       "    </tr>\n",
       "    <tr>\n",
       "      <th>179</th>\n",
       "      <td>NaN</td>\n",
       "      <td>tt4955642</td>\n",
       "      <td>7.9</td>\n",
       "      <td>8.0</td>\n",
       "      <td>NaN</td>\n",
       "      <td>A woman struggles to define what it means to b...</td>\n",
       "      <td>The Good Place</td>\n",
       "      <td>23</td>\n",
       "      <td>2.0</td>\n",
       "      <td>2016–</td>\n",
       "    </tr>\n",
       "    <tr>\n",
       "      <th>180</th>\n",
       "      <td>NaN</td>\n",
       "      <td>tt5071412</td>\n",
       "      <td>8.4</td>\n",
       "      <td>4.0</td>\n",
       "      <td>NaN</td>\n",
       "      <td>A Chicago-based financial advisor secretly rel...</td>\n",
       "      <td>Ozark</td>\n",
       "      <td>10</td>\n",
       "      <td>1.0</td>\n",
       "      <td>2017–</td>\n",
       "    </tr>\n",
       "    <tr>\n",
       "      <th>181</th>\n",
       "      <td>NaN</td>\n",
       "      <td>tt1586680</td>\n",
       "      <td>8.7</td>\n",
       "      <td>9.0</td>\n",
       "      <td>NaN</td>\n",
       "      <td>An alcoholic man lives in a perpetual stupor w...</td>\n",
       "      <td>Shameless</td>\n",
       "      <td>93</td>\n",
       "      <td>8.0</td>\n",
       "      <td>2011–</td>\n",
       "    </tr>\n",
       "    <tr>\n",
       "      <th>182</th>\n",
       "      <td>NaN</td>\n",
       "      <td>tt3768572</td>\n",
       "      <td>7.1</td>\n",
       "      <td>5.0</td>\n",
       "      <td>NaN</td>\n",
       "      <td>A gritty 1960s cop drama about LAPD detective ...</td>\n",
       "      <td>Aquarius</td>\n",
       "      <td>26</td>\n",
       "      <td>2.0</td>\n",
       "      <td>2015–2016</td>\n",
       "    </tr>\n",
       "    <tr>\n",
       "      <th>183</th>\n",
       "      <td>NaN</td>\n",
       "      <td>tt2103085</td>\n",
       "      <td>7.6</td>\n",
       "      <td>NaN</td>\n",
       "      <td>NaN</td>\n",
       "      <td>Obsessed with the disappearance of a 12-year-o...</td>\n",
       "      <td>Top of the Lake</td>\n",
       "      <td>14</td>\n",
       "      <td>2.0</td>\n",
       "      <td>2013–</td>\n",
       "    </tr>\n",
       "    <tr>\n",
       "      <th>184</th>\n",
       "      <td>NaN</td>\n",
       "      <td>tt5016504</td>\n",
       "      <td>8.1</td>\n",
       "      <td>NaN</td>\n",
       "      <td>NaN</td>\n",
       "      <td>After a supernatural event at his church, a pr...</td>\n",
       "      <td>Preacher</td>\n",
       "      <td>22</td>\n",
       "      <td>2.0</td>\n",
       "      <td>2016–</td>\n",
       "    </tr>\n",
       "    <tr>\n",
       "      <th>185</th>\n",
       "      <td>NaN</td>\n",
       "      <td>tt3230454</td>\n",
       "      <td>7.4</td>\n",
       "      <td>5.0</td>\n",
       "      <td>NaN</td>\n",
       "      <td>Almost two years after a virus wiped out most ...</td>\n",
       "      <td>The Last Man on Earth</td>\n",
       "      <td>56</td>\n",
       "      <td>4.0</td>\n",
       "      <td>2015–</td>\n",
       "    </tr>\n",
       "    <tr>\n",
       "      <th>186</th>\n",
       "      <td>NaN</td>\n",
       "      <td>tt0373732</td>\n",
       "      <td>8.4</td>\n",
       "      <td>7.0</td>\n",
       "      <td>NaN</td>\n",
       "      <td>Based on the comic strip, Huey and Riley move ...</td>\n",
       "      <td>The Boondocks</td>\n",
       "      <td>36</td>\n",
       "      <td>4.0</td>\n",
       "      <td>2005–2014</td>\n",
       "    </tr>\n",
       "    <tr>\n",
       "      <th>187</th>\n",
       "      <td>NaN</td>\n",
       "      <td>tt1439629</td>\n",
       "      <td>8.5</td>\n",
       "      <td>10.0</td>\n",
       "      <td>NaN</td>\n",
       "      <td>A suspended lawyer is forced to enroll in a co...</td>\n",
       "      <td>Community</td>\n",
       "      <td>111</td>\n",
       "      <td>6.0</td>\n",
       "      <td>2009–2015</td>\n",
       "    </tr>\n",
       "    <tr>\n",
       "      <th>188</th>\n",
       "      <td>NaN</td>\n",
       "      <td>tt5722214</td>\n",
       "      <td>7.1</td>\n",
       "      <td>7.0</td>\n",
       "      <td>NaN</td>\n",
       "      <td>An aging police sheriff begrudgingly joins an ...</td>\n",
       "      <td>Stan Against Evil</td>\n",
       "      <td>12</td>\n",
       "      <td>2.0</td>\n",
       "      <td>2016–</td>\n",
       "    </tr>\n",
       "    <tr>\n",
       "      <th>189</th>\n",
       "      <td>NaN</td>\n",
       "      <td>tt5296406</td>\n",
       "      <td>7.8</td>\n",
       "      <td>8.5</td>\n",
       "      <td>NaN</td>\n",
       "      <td>A low-level Cabinet member becomes President o...</td>\n",
       "      <td>Designated Survivor</td>\n",
       "      <td>31</td>\n",
       "      <td>2.0</td>\n",
       "      <td>2016–</td>\n",
       "    </tr>\n",
       "    <tr>\n",
       "      <th>190</th>\n",
       "      <td>NaN</td>\n",
       "      <td>tt3597790</td>\n",
       "      <td>7.0</td>\n",
       "      <td>8.0</td>\n",
       "      <td>NaN</td>\n",
       "      <td>Lone-wolf detective Angie Tribeca and a squad ...</td>\n",
       "      <td>Angie Tribeca</td>\n",
       "      <td>30</td>\n",
       "      <td>3.0</td>\n",
       "      <td>2016–</td>\n",
       "    </tr>\n",
       "    <tr>\n",
       "      <th>191</th>\n",
       "      <td>NaN</td>\n",
       "      <td>tt2879552</td>\n",
       "      <td>8.2</td>\n",
       "      <td>8.0</td>\n",
       "      <td>NaN</td>\n",
       "      <td>A high school teacher travels back in time to ...</td>\n",
       "      <td>11.22.63</td>\n",
       "      <td>8</td>\n",
       "      <td>1.0</td>\n",
       "      <td>2016</td>\n",
       "    </tr>\n",
       "    <tr>\n",
       "      <th>192</th>\n",
       "      <td>NaN</td>\n",
       "      <td>tt5834204</td>\n",
       "      <td>8.6</td>\n",
       "      <td>9.0</td>\n",
       "      <td>NaN</td>\n",
       "      <td>Set in a dystopian future, a woman is forced t...</td>\n",
       "      <td>The Handmaid's Tale</td>\n",
       "      <td>11</td>\n",
       "      <td>2.0</td>\n",
       "      <td>2017–</td>\n",
       "    </tr>\n",
       "    <tr>\n",
       "      <th>193</th>\n",
       "      <td>NaN</td>\n",
       "      <td>tt3502172</td>\n",
       "      <td>8.2</td>\n",
       "      <td>8.0</td>\n",
       "      <td>NaN</td>\n",
       "      <td>Love, money, ambition and music intertwine in ...</td>\n",
       "      <td>Mozart in the Jungle</td>\n",
       "      <td>31</td>\n",
       "      <td>4.0</td>\n",
       "      <td>2014–</td>\n",
       "    </tr>\n",
       "    <tr>\n",
       "      <th>194</th>\n",
       "      <td>NaN</td>\n",
       "      <td>tt3973768</td>\n",
       "      <td>7.5</td>\n",
       "      <td>7.0</td>\n",
       "      <td>NaN</td>\n",
       "      <td>A morally-corrupt judge suffers a breakdown an...</td>\n",
       "      <td>Hand of God</td>\n",
       "      <td>20</td>\n",
       "      <td>2.0</td>\n",
       "      <td>2014–2017</td>\n",
       "    </tr>\n",
       "  </tbody>\n",
       "</table>\n",
       "<p>195 rows × 10 columns</p>\n",
       "</div>"
      ],
      "text/plain": [
       "<div>\n",
       "<style scoped>\n",
       "    .dataframe tbody tr th:only-of-type {\n",
       "        vertical-align: middle;\n",
       "    }\n",
       "\n",
       "    .dataframe tbody tr th {\n",
       "        vertical-align: top;\n",
       "    }\n",
       "\n",
       "    .dataframe thead th {\n",
       "        text-align: right;\n",
       "    }\n",
       "</style>\n",
       "<table border=\"1\" class=\"dataframe\">\n",
       "  <thead>\n",
       "    <tr style=\"text-align: right;\">\n",
       "      <th></th>\n",
       "      <th>haveWatched</th>\n",
       "      <th>imdbId</th>\n",
       "      <th>imdbRating</th>\n",
       "      <th>myRating</th>\n",
       "      <th>status</th>\n",
       "      <th>synopsis</th>\n",
       "      <th>title</th>\n",
       "      <th>totalEpisodes</th>\n",
       "      <th>totalSeasons</th>\n",
       "      <th>yearAired</th>\n",
       "    </tr>\n",
       "  </thead>\n",
       "  <tbody>\n",
       "    <tr>\n",
       "      <th>0</th>\n",
       "      <td>yes</td>\n",
       "      <td>tt0285331</td>\n",
       "      <td>8.4</td>\n",
       "      <td>7.0</td>\n",
       "      <td>Finished Airing</td>\n",
       "      <td>Jack Bauer, Director of Field Ops for the Coun...</td>\n",
       "      <td>24</td>\n",
       "      <td>195</td>\n",
       "      <td>8.0</td>\n",
       "      <td>2001–2010</td>\n",
       "    </tr>\n",
       "    <tr>\n",
       "      <th>1</th>\n",
       "      <td>yes</td>\n",
       "      <td>tt3148266</td>\n",
       "      <td>7.6</td>\n",
       "      <td>8.0</td>\n",
       "      <td>Currently Airing</td>\n",
       "      <td>Follows the journey of a time traveler from th...</td>\n",
       "      <td>12 Monkeys</td>\n",
       "      <td>43</td>\n",
       "      <td>4.0</td>\n",
       "      <td>2015–</td>\n",
       "    </tr>\n",
       "    <tr>\n",
       "      <th>2</th>\n",
       "      <td>yes</td>\n",
       "      <td>tt2266639</td>\n",
       "      <td>5.7</td>\n",
       "      <td>5.0</td>\n",
       "      <td>Finished Airing</td>\n",
       "      <td>President Gilcrest and his trophy wife are liv...</td>\n",
       "      <td>1600 Penn</td>\n",
       "      <td>7</td>\n",
       "      <td>1.0</td>\n",
       "      <td>2012–2013</td>\n",
       "    </tr>\n",
       "    <tr>\n",
       "      <th>3</th>\n",
       "      <td>partial</td>\n",
       "      <td>tt1305826</td>\n",
       "      <td>8.6</td>\n",
       "      <td>NaN</td>\n",
       "      <td>Currently Airing</td>\n",
       "      <td>A human boy named Finn and adoptive brother an...</td>\n",
       "      <td>Adventure Time</td>\n",
       "      <td>205</td>\n",
       "      <td>9.0</td>\n",
       "      <td>2010–2018</td>\n",
       "    </tr>\n",
       "    <tr>\n",
       "      <th>4</th>\n",
       "      <td>no</td>\n",
       "      <td>tt0105941</td>\n",
       "      <td>7.9</td>\n",
       "      <td>NaN</td>\n",
       "      <td>Finished Airing</td>\n",
       "      <td>Ensemble cast of off-the-wall Warner Brothers ...</td>\n",
       "      <td>Animaniacs</td>\n",
       "      <td>30</td>\n",
       "      <td>5.0</td>\n",
       "      <td>1993–1998</td>\n",
       "    </tr>\n",
       "    <tr>\n",
       "      <th>5</th>\n",
       "      <td>yes</td>\n",
       "      <td>tt1819509</td>\n",
       "      <td>7.3</td>\n",
       "      <td>5.0</td>\n",
       "      <td>Finished Airing</td>\n",
       "      <td>Chloe is a New York party girl with the morals...</td>\n",
       "      <td>Don't Trust the B---- in Apartment 23</td>\n",
       "      <td>27</td>\n",
       "      <td>2.0</td>\n",
       "      <td>2012–2013</td>\n",
       "    </tr>\n",
       "    <tr>\n",
       "      <th>6</th>\n",
       "      <td>yes</td>\n",
       "      <td>tt2193021</td>\n",
       "      <td>7.8</td>\n",
       "      <td>7.0</td>\n",
       "      <td>Currently Airing</td>\n",
       "      <td>Spoiled billionaire playboy Oliver Queen is mi...</td>\n",
       "      <td>Arrow</td>\n",
       "      <td>124</td>\n",
       "      <td>6.0</td>\n",
       "      <td>2012–</td>\n",
       "    </tr>\n",
       "    <tr>\n",
       "      <th>7</th>\n",
       "      <td>yes</td>\n",
       "      <td>tt3696720</td>\n",
       "      <td>7.2</td>\n",
       "      <td>7.0</td>\n",
       "      <td>Finished Airing</td>\n",
       "      <td>A young woman's murder causes the subjects of ...</td>\n",
       "      <td>Ascension</td>\n",
       "      <td>6</td>\n",
       "      <td>1.0</td>\n",
       "      <td>2014–</td>\n",
       "    </tr>\n",
       "    <tr>\n",
       "      <th>8</th>\n",
       "      <td>no</td>\n",
       "      <td>tt0185906</td>\n",
       "      <td>9.5</td>\n",
       "      <td>NaN</td>\n",
       "      <td>Finished Airing</td>\n",
       "      <td>The story of Easy Company of the U.S. Army 101...</td>\n",
       "      <td>Band of Brothers</td>\n",
       "      <td>10</td>\n",
       "      <td>1.0</td>\n",
       "      <td>2001</td>\n",
       "    </tr>\n",
       "    <tr>\n",
       "      <th>9</th>\n",
       "      <td>yes</td>\n",
       "      <td>tt0407362</td>\n",
       "      <td>8.7</td>\n",
       "      <td>8.0</td>\n",
       "      <td>Finished Airing</td>\n",
       "      <td>When an old enemy, the Cylons, resurface and o...</td>\n",
       "      <td>Battlestar Galactica</td>\n",
       "      <td>71</td>\n",
       "      <td>4.0</td>\n",
       "      <td>2004–2009</td>\n",
       "    </tr>\n",
       "    <tr>\n",
       "      <th>10</th>\n",
       "      <td>NaN</td>\n",
       "      <td>tt1595680</td>\n",
       "      <td>7.5</td>\n",
       "      <td>NaN</td>\n",
       "      <td>NaN</td>\n",
       "      <td>Three twenty-somethings share a house and try ...</td>\n",
       "      <td>Being Human</td>\n",
       "      <td>39</td>\n",
       "      <td>4.0</td>\n",
       "      <td>2011–2014</td>\n",
       "    </tr>\n",
       "    <tr>\n",
       "      <th>11</th>\n",
       "      <td>NaN</td>\n",
       "      <td>tt1235547</td>\n",
       "      <td>8.2</td>\n",
       "      <td>NaN</td>\n",
       "      <td>Finished Airing</td>\n",
       "      <td>In a science-based company, a manager tries to...</td>\n",
       "      <td>Better Off Ted</td>\n",
       "      <td>23</td>\n",
       "      <td>2.0</td>\n",
       "      <td>2009–2010</td>\n",
       "    </tr>\n",
       "    <tr>\n",
       "      <th>12</th>\n",
       "      <td>yes</td>\n",
       "      <td>tt2249364</td>\n",
       "      <td>8.4</td>\n",
       "      <td>8.0</td>\n",
       "      <td>Currently Airing</td>\n",
       "      <td>The murder of a young boy in a small coastal t...</td>\n",
       "      <td>Broadchurch</td>\n",
       "      <td>24</td>\n",
       "      <td>3.0</td>\n",
       "      <td>2013–2017</td>\n",
       "    </tr>\n",
       "    <tr>\n",
       "      <th>13</th>\n",
       "      <td>yes</td>\n",
       "      <td>tt2467372</td>\n",
       "      <td>8.3</td>\n",
       "      <td>8.0</td>\n",
       "      <td>Currently Airing</td>\n",
       "      <td>Jake Peralta, an immature but talented NYPD de...</td>\n",
       "      <td>Brooklyn Nine-Nine</td>\n",
       "      <td>100</td>\n",
       "      <td>5.0</td>\n",
       "      <td>2013–</td>\n",
       "    </tr>\n",
       "    <tr>\n",
       "      <th>14</th>\n",
       "      <td>yes</td>\n",
       "      <td>tt0810788</td>\n",
       "      <td>8.0</td>\n",
       "      <td>NaN</td>\n",
       "      <td>Finished Airing</td>\n",
       "      <td>A spy recently disavowed by the U.S. governmen...</td>\n",
       "      <td>Burn Notice</td>\n",
       "      <td>108</td>\n",
       "      <td>7.0</td>\n",
       "      <td>2007–2013</td>\n",
       "    </tr>\n",
       "    <tr>\n",
       "      <th>15</th>\n",
       "      <td>yes</td>\n",
       "      <td>tt1219024</td>\n",
       "      <td>8.2</td>\n",
       "      <td>4.0</td>\n",
       "      <td>Finished Airing</td>\n",
       "      <td>After a serial killer imitates the plots of hi...</td>\n",
       "      <td>Castle</td>\n",
       "      <td>173</td>\n",
       "      <td>8.0</td>\n",
       "      <td>2009–2016</td>\n",
       "    </tr>\n",
       "    <tr>\n",
       "      <th>16</th>\n",
       "      <td>yes</td>\n",
       "      <td>tt0934814</td>\n",
       "      <td>8.2</td>\n",
       "      <td>6.0</td>\n",
       "      <td>Finished Airing</td>\n",
       "      <td>When a twenty-something computer geek inadvert...</td>\n",
       "      <td>Chuck</td>\n",
       "      <td>91</td>\n",
       "      <td>5.0</td>\n",
       "      <td>2007–2012</td>\n",
       "    </tr>\n",
       "    <tr>\n",
       "      <th>17</th>\n",
       "      <td>NaN</td>\n",
       "      <td>tt0312109</td>\n",
       "      <td>7.2</td>\n",
       "      <td>NaN</td>\n",
       "      <td>Finished Airing</td>\n",
       "      <td>The adventures of a group of ten-year-old frie...</td>\n",
       "      <td>Codename: Kids Next Door</td>\n",
       "      <td>32</td>\n",
       "      <td>6.0</td>\n",
       "      <td>2002–2008</td>\n",
       "    </tr>\n",
       "    <tr>\n",
       "      <th>18</th>\n",
       "      <td>yes</td>\n",
       "      <td>tt4209256</td>\n",
       "      <td>7.3</td>\n",
       "      <td>3.0</td>\n",
       "      <td>Currently Airing</td>\n",
       "      <td>In the wake of a mysterious alien invasion, a ...</td>\n",
       "      <td>Colony</td>\n",
       "      <td>23</td>\n",
       "      <td>2.0</td>\n",
       "      <td>2016–</td>\n",
       "    </tr>\n",
       "    <tr>\n",
       "      <th>19</th>\n",
       "      <td>NaN</td>\n",
       "      <td>tt1439629</td>\n",
       "      <td>8.5</td>\n",
       "      <td>NaN</td>\n",
       "      <td>Finished Airing</td>\n",
       "      <td>A suspended lawyer is forced to enroll in a co...</td>\n",
       "      <td>Community</td>\n",
       "      <td>111</td>\n",
       "      <td>6.0</td>\n",
       "      <td>2009–2015</td>\n",
       "    </tr>\n",
       "    <tr>\n",
       "      <th>20</th>\n",
       "      <td>NaN</td>\n",
       "      <td>tt3489184</td>\n",
       "      <td>7.6</td>\n",
       "      <td>NaN</td>\n",
       "      <td>Finished Airing</td>\n",
       "      <td>A man struggling with his faith who is haunted...</td>\n",
       "      <td>Constantine</td>\n",
       "      <td>13</td>\n",
       "      <td>1.0</td>\n",
       "      <td>2014–2015</td>\n",
       "    </tr>\n",
       "    <tr>\n",
       "      <th>21</th>\n",
       "      <td>NaN</td>\n",
       "      <td>tt4421578</td>\n",
       "      <td>7.2</td>\n",
       "      <td>NaN</td>\n",
       "      <td>Upcoming</td>\n",
       "      <td>The series follows an epidemic that breaks out...</td>\n",
       "      <td>Containment</td>\n",
       "      <td>13</td>\n",
       "      <td>1.0</td>\n",
       "      <td>2016</td>\n",
       "    </tr>\n",
       "    <tr>\n",
       "      <th>22</th>\n",
       "      <td>yes</td>\n",
       "      <td>tt1954347</td>\n",
       "      <td>7.7</td>\n",
       "      <td>6.0</td>\n",
       "      <td>Currently Airing</td>\n",
       "      <td>A detective from the year 2077 finds herself t...</td>\n",
       "      <td>Continuum</td>\n",
       "      <td>42</td>\n",
       "      <td>4.0</td>\n",
       "      <td>2012–2015</td>\n",
       "    </tr>\n",
       "    <tr>\n",
       "      <th>23</th>\n",
       "      <td>NaN</td>\n",
       "      <td>tt0220880</td>\n",
       "      <td>8.3</td>\n",
       "      <td>NaN</td>\n",
       "      <td>Finished Airing</td>\n",
       "      <td>The offbeat adventures of Courage, a cowardly ...</td>\n",
       "      <td>Courage the Cowardly Dog</td>\n",
       "      <td>24</td>\n",
       "      <td>4.0</td>\n",
       "      <td>1999–2002</td>\n",
       "    </tr>\n",
       "    <tr>\n",
       "      <th>24</th>\n",
       "      <td>no</td>\n",
       "      <td>tt2094262</td>\n",
       "      <td>8.1</td>\n",
       "      <td>NaN</td>\n",
       "      <td>Finished Airing</td>\n",
       "      <td>Follows Leonardo Da Vinci during his early day...</td>\n",
       "      <td>Da Vinci's Demons</td>\n",
       "      <td>28</td>\n",
       "      <td>3.0</td>\n",
       "      <td>2013–2015</td>\n",
       "    </tr>\n",
       "    <tr>\n",
       "      <th>25</th>\n",
       "      <td>yes</td>\n",
       "      <td>tt4159076</td>\n",
       "      <td>7.5</td>\n",
       "      <td>8.0</td>\n",
       "      <td>Currently Airing</td>\n",
       "      <td>In the dystopian 27th century, six people wake...</td>\n",
       "      <td>Dark Matter</td>\n",
       "      <td>39</td>\n",
       "      <td>3.0</td>\n",
       "      <td>2015–2017</td>\n",
       "    </tr>\n",
       "    <tr>\n",
       "      <th>26</th>\n",
       "      <td>NaN</td>\n",
       "      <td>tt0348913</td>\n",
       "      <td>8.1</td>\n",
       "      <td>8.0</td>\n",
       "      <td>Finished Airing</td>\n",
       "      <td>After being hit on the head by a toilet seat, ...</td>\n",
       "      <td>Dead Like Me</td>\n",
       "      <td>29</td>\n",
       "      <td>2.0</td>\n",
       "      <td>2003–2004</td>\n",
       "    </tr>\n",
       "    <tr>\n",
       "      <th>27</th>\n",
       "      <td>NaN</td>\n",
       "      <td>tt2189221</td>\n",
       "      <td>7.0</td>\n",
       "      <td>NaN</td>\n",
       "      <td>Currently Airing</td>\n",
       "      <td>In the year 2046, it's a new Earth - with new ...</td>\n",
       "      <td>Defiance</td>\n",
       "      <td>39</td>\n",
       "      <td>3.0</td>\n",
       "      <td>2013–2015</td>\n",
       "    </tr>\n",
       "    <tr>\n",
       "      <th>28</th>\n",
       "      <td>NaN</td>\n",
       "      <td>tt0773262</td>\n",
       "      <td>8.7</td>\n",
       "      <td>7.0</td>\n",
       "      <td>NaN</td>\n",
       "      <td>By day, mild-mannered Dexter is a blood-spatte...</td>\n",
       "      <td>Dexter</td>\n",
       "      <td>96</td>\n",
       "      <td>8.0</td>\n",
       "      <td>2006–2013</td>\n",
       "    </tr>\n",
       "    <tr>\n",
       "      <th>29</th>\n",
       "      <td>NaN</td>\n",
       "      <td>tt4677934</td>\n",
       "      <td>8.1</td>\n",
       "      <td>NaN</td>\n",
       "      <td>Currently Airing</td>\n",
       "      <td>Documentary Now parodies the current obsession...</td>\n",
       "      <td>Documentary Now!</td>\n",
       "      <td>16</td>\n",
       "      <td>3.0</td>\n",
       "      <td>2015–</td>\n",
       "    </tr>\n",
       "    <tr>\n",
       "      <th>...</th>\n",
       "      <td>...</td>\n",
       "      <td>...</td>\n",
       "      <td>...</td>\n",
       "      <td>...</td>\n",
       "      <td>...</td>\n",
       "      <td>...</td>\n",
       "      <td>...</td>\n",
       "      <td>...</td>\n",
       "      <td>...</td>\n",
       "      <td>...</td>\n",
       "    </tr>\n",
       "    <tr>\n",
       "      <th>165</th>\n",
       "      <td>NaN</td>\n",
       "      <td>tt0337792</td>\n",
       "      <td>8.4</td>\n",
       "      <td>7.0</td>\n",
       "      <td>Finished Airing</td>\n",
       "      <td>A psychologist gets inside of the minds of bot...</td>\n",
       "      <td>Wire in the Blood</td>\n",
       "      <td>24</td>\n",
       "      <td>6.0</td>\n",
       "      <td>2002–</td>\n",
       "    </tr>\n",
       "    <tr>\n",
       "      <th>166</th>\n",
       "      <td>NaN</td>\n",
       "      <td>tt1610527</td>\n",
       "      <td>8.2</td>\n",
       "      <td>7.0</td>\n",
       "      <td>Still Airing</td>\n",
       "      <td>A single-camera comedy featuring three friends...</td>\n",
       "      <td>Workaholics</td>\n",
       "      <td>87</td>\n",
       "      <td>7.0</td>\n",
       "      <td>2011–2017</td>\n",
       "    </tr>\n",
       "    <tr>\n",
       "      <th>167</th>\n",
       "      <td>partial</td>\n",
       "      <td>tt4061080</td>\n",
       "      <td>7.7</td>\n",
       "      <td>9.0</td>\n",
       "      <td>Still Airing</td>\n",
       "      <td>A program that follows a couple who must navig...</td>\n",
       "      <td>Love</td>\n",
       "      <td>24</td>\n",
       "      <td>3.0</td>\n",
       "      <td>2016–</td>\n",
       "    </tr>\n",
       "    <tr>\n",
       "      <th>168</th>\n",
       "      <td>NaN</td>\n",
       "      <td>tt3339966</td>\n",
       "      <td>7.8</td>\n",
       "      <td>8.0</td>\n",
       "      <td>Still Airing</td>\n",
       "      <td>A woman is rescued from a doomsday cult and st...</td>\n",
       "      <td>Unbreakable Kimmy Schmidt</td>\n",
       "      <td>39</td>\n",
       "      <td>3.0</td>\n",
       "      <td>2015–</td>\n",
       "    </tr>\n",
       "    <tr>\n",
       "      <th>169</th>\n",
       "      <td>yes</td>\n",
       "      <td>tt4422836</td>\n",
       "      <td>7.8</td>\n",
       "      <td>7.5</td>\n",
       "      <td>Finished Airing</td>\n",
       "      <td>An average 28-year-old man who gains the abili...</td>\n",
       "      <td>Limitless</td>\n",
       "      <td>22</td>\n",
       "      <td>1.0</td>\n",
       "      <td>2015–2016</td>\n",
       "    </tr>\n",
       "    <tr>\n",
       "      <th>170</th>\n",
       "      <td>NaN</td>\n",
       "      <td>tt5191110</td>\n",
       "      <td>7.5</td>\n",
       "      <td>NaN</td>\n",
       "      <td>NaN</td>\n",
       "      <td>Follows Daniel Miller (Richard Armitage), who ...</td>\n",
       "      <td>Berlin Station</td>\n",
       "      <td>19</td>\n",
       "      <td>2.0</td>\n",
       "      <td>2016–</td>\n",
       "    </tr>\n",
       "    <tr>\n",
       "      <th>171</th>\n",
       "      <td>NaN</td>\n",
       "      <td>tt4687882</td>\n",
       "      <td>8.2</td>\n",
       "      <td>NaN</td>\n",
       "      <td>NaN</td>\n",
       "      <td>To prevent Iran from going nuclear, intelligen...</td>\n",
       "      <td>Patriot</td>\n",
       "      <td>10</td>\n",
       "      <td>1.0</td>\n",
       "      <td>2015–</td>\n",
       "    </tr>\n",
       "    <tr>\n",
       "      <th>172</th>\n",
       "      <td>NaN</td>\n",
       "      <td>tt5212822</td>\n",
       "      <td>7.8</td>\n",
       "      <td>NaN</td>\n",
       "      <td>NaN</td>\n",
       "      <td>A dark comedy that focuses on a female con art...</td>\n",
       "      <td>Imposters</td>\n",
       "      <td>10</td>\n",
       "      <td>1.0</td>\n",
       "      <td>2017–</td>\n",
       "    </tr>\n",
       "    <tr>\n",
       "      <th>173</th>\n",
       "      <td>NaN</td>\n",
       "      <td>tt5012644</td>\n",
       "      <td>7.6</td>\n",
       "      <td>7.0</td>\n",
       "      <td>NaN</td>\n",
       "      <td>Hell-bent on bringing justice to those who get...</td>\n",
       "      <td>Sweet/Vicious</td>\n",
       "      <td>10</td>\n",
       "      <td>1.0</td>\n",
       "      <td>2016–2017</td>\n",
       "    </tr>\n",
       "    <tr>\n",
       "      <th>174</th>\n",
       "      <td>NaN</td>\n",
       "      <td>tt5511582</td>\n",
       "      <td>7.6</td>\n",
       "      <td>NaN</td>\n",
       "      <td>NaN</td>\n",
       "      <td>An unlikely trio travel through time in order ...</td>\n",
       "      <td>Timeless</td>\n",
       "      <td>16</td>\n",
       "      <td>1.0</td>\n",
       "      <td>2016–</td>\n",
       "    </tr>\n",
       "    <tr>\n",
       "      <th>175</th>\n",
       "      <td>NaN</td>\n",
       "      <td>tt1439629</td>\n",
       "      <td>8.5</td>\n",
       "      <td>9.0</td>\n",
       "      <td>Finished Airing</td>\n",
       "      <td>A suspended lawyer is forced to enroll in a co...</td>\n",
       "      <td>Community</td>\n",
       "      <td>111</td>\n",
       "      <td>6.0</td>\n",
       "      <td>2009–2015</td>\n",
       "    </tr>\n",
       "    <tr>\n",
       "      <th>176</th>\n",
       "      <td>NaN</td>\n",
       "      <td>tt4181172</td>\n",
       "      <td>7.6</td>\n",
       "      <td>NaN</td>\n",
       "      <td>NaN</td>\n",
       "      <td>A conspiracy thriller that follows the journey...</td>\n",
       "      <td>Shooter</td>\n",
       "      <td>18</td>\n",
       "      <td>2.0</td>\n",
       "      <td>2016–</td>\n",
       "    </tr>\n",
       "    <tr>\n",
       "      <th>177</th>\n",
       "      <td>NaN</td>\n",
       "      <td>tt5503718</td>\n",
       "      <td>7.0</td>\n",
       "      <td>8.0</td>\n",
       "      <td>NaN</td>\n",
       "      <td>Therapist Jean Holloway becomes too immersed i...</td>\n",
       "      <td>Gypsy</td>\n",
       "      <td>10</td>\n",
       "      <td>1.0</td>\n",
       "      <td>2017</td>\n",
       "    </tr>\n",
       "    <tr>\n",
       "      <th>178</th>\n",
       "      <td>NaN</td>\n",
       "      <td>tt4230076</td>\n",
       "      <td>7.6</td>\n",
       "      <td>NaN</td>\n",
       "      <td>NaN</td>\n",
       "      <td>Daredevil, Jessica Jones, Luke Cage, and Iron ...</td>\n",
       "      <td>The Defenders</td>\n",
       "      <td>8</td>\n",
       "      <td>1.0</td>\n",
       "      <td>2017–</td>\n",
       "    </tr>\n",
       "    <tr>\n",
       "      <th>179</th>\n",
       "      <td>NaN</td>\n",
       "      <td>tt4955642</td>\n",
       "      <td>7.9</td>\n",
       "      <td>8.0</td>\n",
       "      <td>NaN</td>\n",
       "      <td>A woman struggles to define what it means to b...</td>\n",
       "      <td>The Good Place</td>\n",
       "      <td>23</td>\n",
       "      <td>2.0</td>\n",
       "      <td>2016–</td>\n",
       "    </tr>\n",
       "    <tr>\n",
       "      <th>180</th>\n",
       "      <td>NaN</td>\n",
       "      <td>tt5071412</td>\n",
       "      <td>8.4</td>\n",
       "      <td>4.0</td>\n",
       "      <td>NaN</td>\n",
       "      <td>A Chicago-based financial advisor secretly rel...</td>\n",
       "      <td>Ozark</td>\n",
       "      <td>10</td>\n",
       "      <td>1.0</td>\n",
       "      <td>2017–</td>\n",
       "    </tr>\n",
       "    <tr>\n",
       "      <th>181</th>\n",
       "      <td>NaN</td>\n",
       "      <td>tt1586680</td>\n",
       "      <td>8.7</td>\n",
       "      <td>9.0</td>\n",
       "      <td>NaN</td>\n",
       "      <td>An alcoholic man lives in a perpetual stupor w...</td>\n",
       "      <td>Shameless</td>\n",
       "      <td>93</td>\n",
       "      <td>8.0</td>\n",
       "      <td>2011–</td>\n",
       "    </tr>\n",
       "    <tr>\n",
       "      <th>182</th>\n",
       "      <td>NaN</td>\n",
       "      <td>tt3768572</td>\n",
       "      <td>7.1</td>\n",
       "      <td>5.0</td>\n",
       "      <td>NaN</td>\n",
       "      <td>A gritty 1960s cop drama about LAPD detective ...</td>\n",
       "      <td>Aquarius</td>\n",
       "      <td>26</td>\n",
       "      <td>2.0</td>\n",
       "      <td>2015–2016</td>\n",
       "    </tr>\n",
       "    <tr>\n",
       "      <th>183</th>\n",
       "      <td>NaN</td>\n",
       "      <td>tt2103085</td>\n",
       "      <td>7.6</td>\n",
       "      <td>NaN</td>\n",
       "      <td>NaN</td>\n",
       "      <td>Obsessed with the disappearance of a 12-year-o...</td>\n",
       "      <td>Top of the Lake</td>\n",
       "      <td>14</td>\n",
       "      <td>2.0</td>\n",
       "      <td>2013–</td>\n",
       "    </tr>\n",
       "    <tr>\n",
       "      <th>184</th>\n",
       "      <td>NaN</td>\n",
       "      <td>tt5016504</td>\n",
       "      <td>8.1</td>\n",
       "      <td>NaN</td>\n",
       "      <td>NaN</td>\n",
       "      <td>After a supernatural event at his church, a pr...</td>\n",
       "      <td>Preacher</td>\n",
       "      <td>22</td>\n",
       "      <td>2.0</td>\n",
       "      <td>2016–</td>\n",
       "    </tr>\n",
       "    <tr>\n",
       "      <th>185</th>\n",
       "      <td>NaN</td>\n",
       "      <td>tt3230454</td>\n",
       "      <td>7.4</td>\n",
       "      <td>5.0</td>\n",
       "      <td>NaN</td>\n",
       "      <td>Almost two years after a virus wiped out most ...</td>\n",
       "      <td>The Last Man on Earth</td>\n",
       "      <td>56</td>\n",
       "      <td>4.0</td>\n",
       "      <td>2015–</td>\n",
       "    </tr>\n",
       "    <tr>\n",
       "      <th>186</th>\n",
       "      <td>NaN</td>\n",
       "      <td>tt0373732</td>\n",
       "      <td>8.4</td>\n",
       "      <td>7.0</td>\n",
       "      <td>NaN</td>\n",
       "      <td>Based on the comic strip, Huey and Riley move ...</td>\n",
       "      <td>The Boondocks</td>\n",
       "      <td>36</td>\n",
       "      <td>4.0</td>\n",
       "      <td>2005–2014</td>\n",
       "    </tr>\n",
       "    <tr>\n",
       "      <th>187</th>\n",
       "      <td>NaN</td>\n",
       "      <td>tt1439629</td>\n",
       "      <td>8.5</td>\n",
       "      <td>10.0</td>\n",
       "      <td>NaN</td>\n",
       "      <td>A suspended lawyer is forced to enroll in a co...</td>\n",
       "      <td>Community</td>\n",
       "      <td>111</td>\n",
       "      <td>6.0</td>\n",
       "      <td>2009–2015</td>\n",
       "    </tr>\n",
       "    <tr>\n",
       "      <th>188</th>\n",
       "      <td>NaN</td>\n",
       "      <td>tt5722214</td>\n",
       "      <td>7.1</td>\n",
       "      <td>7.0</td>\n",
       "      <td>NaN</td>\n",
       "      <td>An aging police sheriff begrudgingly joins an ...</td>\n",
       "      <td>Stan Against Evil</td>\n",
       "      <td>12</td>\n",
       "      <td>2.0</td>\n",
       "      <td>2016–</td>\n",
       "    </tr>\n",
       "    <tr>\n",
       "      <th>189</th>\n",
       "      <td>NaN</td>\n",
       "      <td>tt5296406</td>\n",
       "      <td>7.8</td>\n",
       "      <td>8.5</td>\n",
       "      <td>NaN</td>\n",
       "      <td>A low-level Cabinet member becomes President o...</td>\n",
       "      <td>Designated Survivor</td>\n",
       "      <td>31</td>\n",
       "      <td>2.0</td>\n",
       "      <td>2016–</td>\n",
       "    </tr>\n",
       "    <tr>\n",
       "      <th>190</th>\n",
       "      <td>NaN</td>\n",
       "      <td>tt3597790</td>\n",
       "      <td>7.0</td>\n",
       "      <td>8.0</td>\n",
       "      <td>NaN</td>\n",
       "      <td>Lone-wolf detective Angie Tribeca and a squad ...</td>\n",
       "      <td>Angie Tribeca</td>\n",
       "      <td>30</td>\n",
       "      <td>3.0</td>\n",
       "      <td>2016–</td>\n",
       "    </tr>\n",
       "    <tr>\n",
       "      <th>191</th>\n",
       "      <td>NaN</td>\n",
       "      <td>tt2879552</td>\n",
       "      <td>8.2</td>\n",
       "      <td>8.0</td>\n",
       "      <td>NaN</td>\n",
       "      <td>A high school teacher travels back in time to ...</td>\n",
       "      <td>11.22.63</td>\n",
       "      <td>8</td>\n",
       "      <td>1.0</td>\n",
       "      <td>2016</td>\n",
       "    </tr>\n",
       "    <tr>\n",
       "      <th>192</th>\n",
       "      <td>NaN</td>\n",
       "      <td>tt5834204</td>\n",
       "      <td>8.6</td>\n",
       "      <td>9.0</td>\n",
       "      <td>NaN</td>\n",
       "      <td>Set in a dystopian future, a woman is forced t...</td>\n",
       "      <td>The Handmaid's Tale</td>\n",
       "      <td>11</td>\n",
       "      <td>2.0</td>\n",
       "      <td>2017–</td>\n",
       "    </tr>\n",
       "    <tr>\n",
       "      <th>193</th>\n",
       "      <td>NaN</td>\n",
       "      <td>tt3502172</td>\n",
       "      <td>8.2</td>\n",
       "      <td>8.0</td>\n",
       "      <td>NaN</td>\n",
       "      <td>Love, money, ambition and music intertwine in ...</td>\n",
       "      <td>Mozart in the Jungle</td>\n",
       "      <td>31</td>\n",
       "      <td>4.0</td>\n",
       "      <td>2014–</td>\n",
       "    </tr>\n",
       "    <tr>\n",
       "      <th>194</th>\n",
       "      <td>NaN</td>\n",
       "      <td>tt3973768</td>\n",
       "      <td>7.5</td>\n",
       "      <td>7.0</td>\n",
       "      <td>NaN</td>\n",
       "      <td>A morally-corrupt judge suffers a breakdown an...</td>\n",
       "      <td>Hand of God</td>\n",
       "      <td>20</td>\n",
       "      <td>2.0</td>\n",
       "      <td>2014–2017</td>\n",
       "    </tr>\n",
       "  </tbody>\n",
       "</table>\n",
       "<p>195 rows × 10 columns</p>\n",
       "</div>"
      ]
     },
     "execution_count": 2,
     "metadata": {},
     "output_type": "execute_result"
    }
   ],
   "source": [
    "import os\n",
    "from progressbar import ProgressBar\n",
    "\n",
    "filename = os.path.join(os.getenv('USERPROFILE'), 'Google Drive', \"Media List.xlsx\")\n",
    "def parseTable(api, filename, **kwargs):\n",
    "\t\"\"\"\n",
    "\t\tAttempts to lookup imformation from the api using information saved in a table.\n",
    "\t\tKeyword Arguments\n",
    "\t\t-----------------\n",
    "\n",
    "\t\"\"\"\n",
    "\n",
    "\ttable = tabletools.Table(filename, sheetname = \"TV Shows\")\n",
    "\t\n",
    "\t# title, status, totalSeasons, totalEpisodes, imdbRating, myRating, synopsis, haveWatched, imdbId, yearAired\n",
    "\tnew_table = list()\n",
    "\tpbar = ProgressBar(max_value = len(table))\n",
    "\tfor index, row in table.iterrows():\n",
    "\t\tpbar.update(index)\n",
    "\t\tmedia_title = row.get('title')\n",
    "\t\tmedia_id = row.get('imdbId')\n",
    "\t\tmedia_title = str(media_title)\n",
    "\t\t\n",
    "\t\tif media_title == 'nan': media_title = None\n",
    "\t\tif not isinstance(media_id, str): media_id = None\n",
    "\t\t\n",
    "\t\ttry:\n",
    "\t\t\tif media_id:\n",
    "\t\t\t\tresponse = api.get(media_id, True)\n",
    "\t\t\telse:\n",
    "\t\t\t\tresponse = api.find(media_title)\n",
    "\t\t\terror = False\n",
    "\t\t\tmessage = \"\"\n",
    "\t\texcept Exception as exception:\n",
    "\t\t\terror = True\n",
    "\t\t\tmessage = \"Could not retrieve data for '{}' ('{}')\".format(media_title, str(exception))\n",
    "\n",
    "\t\tif response is None:\n",
    "\t\t\terror = True\n",
    "\t\t\tmessage = \"Could not retrieve the seasons for '{}'\".format(media_title)\n",
    "\n",
    "\t\tif error:\n",
    "\t\t\tprint()\n",
    "\t\t\tprint(message)\n",
    "\t\t\tcontinue\n",
    "\t\ttotal_episodes = 0\n",
    "\t\tfor i in response['seasons']:\n",
    "\t\t\ttotal_episodes += i['length']\n",
    "\n",
    "\t\tnew_row = {\n",
    "\t\t\t'title':         response['title'],\n",
    "\t\t\t'status':        row['status'],\n",
    "\t\t\t'totalSeasons':  response['totalSeasons'],\n",
    "\t\t\t'totalEpisodes': total_episodes,\n",
    "\t\t\t'imdbRating':    response['imdbRating'],\n",
    "\t\t\t'myRating':      row['myRating'],\n",
    "\t\t\t'haveWatched':   row['haveWatched'],\n",
    "\t\t\t'synopsis':      response['plot'],\n",
    "\t\t\t'imdbId':        response['imdbId'],\n",
    "\t\t\t'yearAired':     response['year']\n",
    "\t\t}\n",
    "\t\tnew_table.append(new_row)\n",
    "\n",
    "\tnew_table = tabletools.Table(new_table)\n",
    "\n",
    "\treturn new_table\n",
    "new_table = parseTable(api, filename)\n",
    "new_table"
   ]
  },
  {
   "cell_type": "code",
   "execution_count": 6,
   "metadata": {},
   "outputs": [
    {
     "name": "stdout",
     "output_type": "stream",
     "text": [
      "{'Error': 'Series not found!', 'Response': 'False'}\n"
     ]
    }
   ],
   "source": [
    "pprint(api.search('Sara Conner Chronicles'.lower(), kind = 'series'))"
   ]
  },
  {
   "cell_type": "code",
   "execution_count": null,
   "metadata": {},
   "outputs": [],
   "source": []
  }
 ],
 "metadata": {
  "kernelspec": {
   "display_name": "Python 2",
   "language": "python",
   "name": "python2"
  },
  "language_info": {
   "codemirror_mode": {
    "name": "ipython",
    "version": 2
   },
   "file_extension": ".py",
   "mimetype": "text/x-python",
   "name": "python",
   "nbconvert_exporter": "python",
   "pygments_lexer": "ipython2",
   "version": "2.7.6"
  }
 },
 "nbformat": 4,
 "nbformat_minor": 0
}
