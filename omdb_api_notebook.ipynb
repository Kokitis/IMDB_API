{
 "cells": [
  {
   "cell_type": "code",
   "execution_count": 1,
   "metadata": {
    "collapsed": true
   },
   "outputs": [],
   "source": [
    "%matplotlib inline\n",
    "from package import OmdbApi, graphics\n",
    "from package.github import omdb_api_key, timetools, tabletools\n",
    "import requests\n",
    "from functools import partial \n",
    "from pprint import pprint\n",
    "pprint = partial(pprint, width = 250)\n",
    "\n",
    "from IPython.display import SVG, display, HTML\n",
    "\n",
    "api = OmdbApi(omdb_api_key)\n",
    "test_show = 'tt4254242'\n",
    "test_string = \"riverdale\"\n",
    "test_movie = \"tt2488496\"\n",
    "test_response = api.find(test_string)\n",
    "#response = api.get(test_movie)\n",
    "#pprint(response)"
   ]
  },
  {
   "cell_type": "code",
   "execution_count": 2,
   "metadata": {},
   "outputs": [
    {
     "name": "stdout",
     "output_type": "stream",
     "text": [
      "Shadowhunters: The Mortal Instruments\n[(1, 8.392307692307691), (13, 8.392307692307691)]\n[(14, 8.705882352941174), (33, 8.705882352941174)]\nC:\\Users\\Progi\\Documents\\GitHub\\IMDB_API\\package\\graphics\\pygalplot\\testpg.svg\n"
     ]
    }
   ],
   "source": [
    "test_show = \"shadowhunters\"\n",
    "response = api.find(test_show)\n",
    "print(response.title)\n",
    "#print(response.seasons)\n",
    "pgplot = graphics.pygalplot.SeriesPlot(response)\n",
    "pgplot.save()"
   ]
  },
  {
   "cell_type": "code",
   "execution_count": null,
   "metadata": {},
   "outputs": [],
   "source": []
  }
 ],
 "metadata": {
  "kernelspec": {
   "display_name": "Python 3",
   "language": "python",
   "name": "python3"
  },
  "language_info": {
   "codemirror_mode": {
    "name": "ipython",
    "version": 3
   },
   "file_extension": ".py",
   "mimetype": "text/x-python",
   "name": "python",
   "nbconvert_exporter": "python",
   "pygments_lexer": "ipython3",
   "version": "3.6.5"
  }
 },
 "nbformat": 4,
 "nbformat_minor": 2
}
